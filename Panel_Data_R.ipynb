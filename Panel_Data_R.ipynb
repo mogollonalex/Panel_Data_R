{
  "nbformat": 4,
  "nbformat_minor": 0,
  "metadata": {
    "colab": {
      "name": "Panel_Data_R.ipynb",
      "provenance": [],
      "authorship_tag": "ABX9TyNuPDA55Nf7xIV47iFBU1qe",
      "include_colab_link": true
    },
    "kernelspec": {
      "name": "ir",
      "display_name": "R"
    },
    "language_info": {
      "name": "R"
    }
  },
  "cells": [
    {
      "cell_type": "markdown",
      "metadata": {
        "id": "view-in-github",
        "colab_type": "text"
      },
      "source": [
        "<a href=\"https://colab.research.google.com/github/mogollonalex/Panel_Data_R/blob/main/Panel_Data_R.ipynb\" target=\"_parent\"><img src=\"https://colab.research.google.com/assets/colab-badge.svg\" alt=\"Open In Colab\"/></a>"
      ]
    },
    {
      "cell_type": "code",
      "execution_count": null,
      "metadata": {
        "id": "RdhSd5fuG0px"
      },
      "outputs": [],
      "source": [
        ""
      ]
    }
  ]
}