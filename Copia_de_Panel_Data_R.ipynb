{
  "cells": [
    {
      "cell_type": "markdown",
      "metadata": {
        "id": "view-in-github",
        "colab_type": "text"
      },
      "source": [
        "<a href=\"https://colab.research.google.com/github/mogollonalex/Panel_Data_R/blob/main/Copia_de_Panel_Data_R.ipynb\" target=\"_parent\"><img src=\"https://colab.research.google.com/assets/colab-badge.svg\" alt=\"Open In Colab\"/></a>"
      ]
    },
    {
      "cell_type": "code",
      "execution_count": null,
      "metadata": {
        "colab": {
          "base_uri": "https://localhost:8080/"
        },
        "id": "kc35Si89JTep",
        "outputId": "d2e63a6b-3366-4a51-80ba-10ca3dbd5542"
      },
      "outputs": [
        {
          "output_type": "stream",
          "name": "stderr",
          "text": [
            "Installing packages into ‘/usr/local/lib/R/site-library’\n",
            "(as ‘lib’ is unspecified)\n",
            "\n",
            "also installing the dependencies ‘numDeriv’, ‘SparseM’, ‘MatrixModels’, ‘sp’, ‘minqa’, ‘nloptr’, ‘RcppEigen’, ‘xts’, ‘TTR’, ‘bitops’, ‘miscTools’, ‘rbibutils’, ‘carData’, ‘abind’, ‘pbkrtest’, ‘quantreg’, ‘maptools’, ‘lme4’, ‘leaps’, ‘locfit’, ‘quadprog’, ‘quantmod’, ‘timeDate’, ‘timeSeries’, ‘gss’, ‘stabledist’, ‘htmlwidgets’, ‘fracdiff’, ‘urca’, ‘RcppArmadillo’, ‘gtools’, ‘caTools’, ‘bdsmatrix’, ‘collapse’, ‘maxLik’, ‘Rdpack’, ‘Formula’\n",
            "\n",
            "\n",
            "Warning message in install.packages(c(\"car\", \"TSA\", \"tseries\", \"lmtest\", \"fBasics\", :\n",
            "“installation of package ‘nloptr’ had non-zero exit status”\n",
            "Warning message in install.packages(c(\"car\", \"TSA\", \"tseries\", \"lmtest\", \"fBasics\", :\n",
            "“installation of package ‘collapse’ had non-zero exit status”\n",
            "Warning message in install.packages(c(\"car\", \"TSA\", \"tseries\", \"lmtest\", \"fBasics\", :\n",
            "“installation of package ‘Formula’ had non-zero exit status”\n",
            "Warning message in install.packages(c(\"car\", \"TSA\", \"tseries\", \"lmtest\", \"fBasics\", :\n",
            "“installation of package ‘openxlsx’ had non-zero exit status”\n",
            "Warning message in install.packages(c(\"car\", \"TSA\", \"tseries\", \"lmtest\", \"fBasics\", :\n",
            "“installation of package ‘lme4’ had non-zero exit status”\n",
            "Warning message in install.packages(c(\"car\", \"TSA\", \"tseries\", \"lmtest\", \"fBasics\", :\n",
            "“installation of package ‘timeSeries’ had non-zero exit status”\n",
            "Warning message in install.packages(c(\"car\", \"TSA\", \"tseries\", \"lmtest\", \"fBasics\", :\n",
            "“installation of package ‘urca’ had non-zero exit status”\n",
            "Warning message in install.packages(c(\"car\", \"TSA\", \"tseries\", \"lmtest\", \"fBasics\", :\n",
            "“installation of package ‘caTools’ had non-zero exit status”\n"
          ]
        }
      ],
      "source": [
        "install.packages(c(\"car\",\"TSA\",\"tseries\",\"lmtest\",\"fBasics\",\"rgl\",\n",
        "                  \"forecast\",\"openxlsx\",\"timsac\",\"strucchange\",\n",
        "                  \"sandwich\",\"nlme\",\"foreign\",\"gplots\",\"plm\", \"zoo\"))"
      ]
    },
    {
      "cell_type": "code",
      "source": [
        "install.packages(\"gplots\")"
      ],
      "metadata": {
        "colab": {
          "base_uri": "https://localhost:8080/"
        },
        "id": "DzgM4mCMyofE",
        "outputId": "c7a432d5-1f33-48ba-e25a-87fd01c74f2b"
      },
      "execution_count": 2,
      "outputs": [
        {
          "output_type": "stream",
          "name": "stderr",
          "text": [
            "Installing package into ‘/usr/local/lib/R/site-library’\n",
            "(as ‘lib’ is unspecified)\n",
            "\n",
            "also installing the dependencies ‘bitops’, ‘gtools’, ‘caTools’\n",
            "\n",
            "\n"
          ]
        }
      ]
    },
    {
      "cell_type": "code",
      "source": [
        "install.packages(\"plm\")"
      ],
      "metadata": {
        "colab": {
          "base_uri": "https://localhost:8080/"
        },
        "id": "3A2feh_byt2m",
        "outputId": "ef96f67c-8ddd-45a9-e9fc-944eb438edec"
      },
      "execution_count": 4,
      "outputs": [
        {
          "output_type": "stream",
          "name": "stderr",
          "text": [
            "Installing package into ‘/usr/local/lib/R/site-library’\n",
            "(as ‘lib’ is unspecified)\n",
            "\n",
            "also installing the dependencies ‘miscTools’, ‘rbibutils’, ‘bdsmatrix’, ‘collapse’, ‘zoo’, ‘sandwich’, ‘lmtest’, ‘maxLik’, ‘Rdpack’, ‘Formula’\n",
            "\n",
            "\n"
          ]
        }
      ]
    },
    {
      "cell_type": "code",
      "source": [
        "install.packages(\"tseries\")"
      ],
      "metadata": {
        "colab": {
          "base_uri": "https://localhost:8080/"
        },
        "id": "f0_p8yv_y5ft",
        "outputId": "31e9cbf1-01cb-418f-a99c-7fa70b0fe162"
      },
      "execution_count": 6,
      "outputs": [
        {
          "output_type": "stream",
          "name": "stderr",
          "text": [
            "Installing package into ‘/usr/local/lib/R/site-library’\n",
            "(as ‘lib’ is unspecified)\n",
            "\n",
            "also installing the dependencies ‘xts’, ‘TTR’, ‘quadprog’, ‘quantmod’\n",
            "\n",
            "\n"
          ]
        }
      ]
    },
    {
      "cell_type": "code",
      "source": [
        "install.packages(\"zoo\")"
      ],
      "metadata": {
        "colab": {
          "base_uri": "https://localhost:8080/"
        },
        "id": "Zn_6ayvKy5Rf",
        "outputId": "c882d586-dd1b-43b2-b719-1833feae3743"
      },
      "execution_count": 7,
      "outputs": [
        {
          "output_type": "stream",
          "name": "stderr",
          "text": [
            "Installing package into ‘/usr/local/lib/R/site-library’\n",
            "(as ‘lib’ is unspecified)\n",
            "\n"
          ]
        }
      ]
    },
    {
      "cell_type": "code",
      "source": [
        "install.packages(\"lmtest\")"
      ],
      "metadata": {
        "colab": {
          "base_uri": "https://localhost:8080/"
        },
        "id": "Qc7A-FeDy48Y",
        "outputId": "f59f499c-6854-4dd7-bfb9-540763f6991e"
      },
      "execution_count": 8,
      "outputs": [
        {
          "output_type": "stream",
          "name": "stderr",
          "text": [
            "Installing package into ‘/usr/local/lib/R/site-library’\n",
            "(as ‘lib’ is unspecified)\n",
            "\n"
          ]
        }
      ]
    },
    {
      "cell_type": "code",
      "execution_count": 9,
      "metadata": {
        "colab": {
          "base_uri": "https://localhost:8080/"
        },
        "id": "x8He6CnHMXEc",
        "outputId": "c7c6fa6e-633f-4761-daa4-5f275b384a4b"
      },
      "outputs": [
        {
          "output_type": "stream",
          "name": "stderr",
          "text": [
            "Registered S3 method overwritten by 'quantmod':\n",
            "  method            from\n",
            "  as.zoo.data.frame zoo \n",
            "\n",
            "\n",
            "Attaching package: ‘zoo’\n",
            "\n",
            "\n",
            "The following objects are masked from ‘package:base’:\n",
            "\n",
            "    as.Date, as.Date.numeric\n",
            "\n",
            "\n"
          ]
        }
      ],
      "source": [
        "library(gplots)\n",
        "\n",
        "library(plm)\n",
        "\n",
        "library(tseries)\n",
        "\n",
        "library(zoo)\n",
        "\n",
        "library(lmtest)"
      ]
    },
    {
      "cell_type": "code",
      "execution_count": 10,
      "metadata": {
        "colab": {
          "base_uri": "https://localhost:8080/",
          "height": 1000
        },
        "id": "WW8hp1IKJSeQ",
        "outputId": "ef2a7d53-f652-44e3-e891-50fa6fffb31f"
      },
      "outputs": [
        {
          "output_type": "display_data",
          "data": {
            "text/html": [
              "<table class=\"dataframe\">\n",
              "<caption>A data.frame: 60 × 20</caption>\n",
              "<thead>\n",
              "\t<tr><th scope=col>ID</th><th scope=col>COD</th><th scope=col>YEAR</th><th scope=col>IDH</th><th scope=col>IDHr</th><th scope=col>INBpc</th><th scope=col>GasSocial</th><th scope=col>IGINICEPAL</th><th scope=col>CONTCORR</th><th scope=col>EGOB</th><th scope=col>ESTPOL</th><th scope=col>CALIREG</th><th scope=col>RJUE</th><th scope=col>VOZYREND</th><th scope=col>CONTCORRp</th><th scope=col>EGOBp</th><th scope=col>ESTPOLp</th><th scope=col>CALIREGp</th><th scope=col>RJUEp</th><th scope=col>VOZYRENDp</th></tr>\n",
              "\t<tr><th scope=col>&lt;int&gt;</th><th scope=col>&lt;chr&gt;</th><th scope=col>&lt;chr&gt;</th><th scope=col>&lt;dbl&gt;</th><th scope=col>&lt;dbl&gt;</th><th scope=col>&lt;int&gt;</th><th scope=col>&lt;dbl&gt;</th><th scope=col>&lt;dbl&gt;</th><th scope=col>&lt;dbl&gt;</th><th scope=col>&lt;dbl&gt;</th><th scope=col>&lt;dbl&gt;</th><th scope=col>&lt;dbl&gt;</th><th scope=col>&lt;dbl&gt;</th><th scope=col>&lt;dbl&gt;</th><th scope=col>&lt;dbl&gt;</th><th scope=col>&lt;dbl&gt;</th><th scope=col>&lt;dbl&gt;</th><th scope=col>&lt;dbl&gt;</th><th scope=col>&lt;dbl&gt;</th><th scope=col>&lt;dbl&gt;</th></tr>\n",
              "</thead>\n",
              "<tbody>\n",
              "\t<tr><td> 1</td><td>ARG</td><td>2013-01</td><td>0.824</td><td>0.840</td><td>23852</td><td>13.0</td><td>0.389</td><td>-0.43</td><td>-0.28</td><td> 0.07</td><td>-0.96</td><td>-0.71</td><td> 0.28</td><td>40.28</td><td>45.97</td><td>48.34</td><td>18.01</td><td>29.58</td><td>56.81</td></tr>\n",
              "\t<tr><td> 1</td><td>ARG</td><td>2014-01</td><td>0.825</td><td>0.843</td><td>23048</td><td>13.0</td><td>0.391</td><td>-0.54</td><td>-0.16</td><td>-0.01</td><td>-1.07</td><td>-0.89</td><td> 0.35</td><td>35.10</td><td>46.63</td><td>45.71</td><td>12.50</td><td>18.75</td><td>59.11</td></tr>\n",
              "\t<tr><td> 1</td><td>ARG</td><td>2015-01</td><td>0.828</td><td>0.847</td><td>23466</td><td>14.1</td><td>0.392</td><td>-0.55</td><td>-0.08</td><td> 0.01</td><td>-0.91</td><td>-0.77</td><td> 0.41</td><td>33.65</td><td>50.00</td><td>46.19</td><td>17.31</td><td>24.04</td><td>60.10</td></tr>\n",
              "\t<tr><td> 1</td><td>ARG</td><td>2016-01</td><td>0.828</td><td>0.849</td><td>22697</td><td>14.2</td><td>0.393</td><td>-0.28</td><td> 0.16</td><td> 0.20</td><td>-0.47</td><td>-0.39</td><td> 0.49</td><td>47.12</td><td>60.10</td><td>52.86</td><td>33.65</td><td>37.50</td><td>63.55</td></tr>\n",
              "\t<tr><td> 1</td><td>ARG</td><td>2017-01</td><td>0.832</td><td>0.854</td><td>22962</td><td>14.6</td><td>0.388</td><td>-0.26</td><td> 0.15</td><td> 0.17</td><td>-0.29</td><td>-0.25</td><td> 0.53</td><td>47.60</td><td>58.65</td><td>53.33</td><td>41.35</td><td>46.15</td><td>65.52</td></tr>\n",
              "\t<tr><td> 1</td><td>ARG</td><td>2018-01</td><td>0.830</td><td>0.856</td><td>21918</td><td>13.5</td><td>0.396</td><td>-0.07</td><td> 0.03</td><td> 0.02</td><td>-0.29</td><td>-0.24</td><td> 0.56</td><td>55.29</td><td>54.81</td><td>47.62</td><td>42.31</td><td>45.67</td><td>66.50</td></tr>\n",
              "\t<tr><td> 2</td><td>BOL</td><td>2013-01</td><td>0.673</td><td>0.707</td><td> 6937</td><td>10.9</td><td>0.480</td><td>-0.59</td><td>-0.39</td><td>-0.33</td><td>-0.78</td><td>-1.05</td><td>-0.07</td><td>34.60</td><td>43.13</td><td>36.49</td><td>24.17</td><td>15.02</td><td>46.48</td></tr>\n",
              "\t<tr><td> 2</td><td>BOL</td><td>2014-01</td><td>0.678</td><td>0.712</td><td> 7314</td><td>11.6</td><td>0.471</td><td>-0.63</td><td>-0.59</td><td>-0.33</td><td>-0.87</td><td>-1.06</td><td>-0.03</td><td>30.29</td><td>28.85</td><td>33.33</td><td>20.67</td><td>12.98</td><td>48.28</td></tr>\n",
              "\t<tr><td> 2</td><td>BOL</td><td>2015-01</td><td>0.685</td><td>0.717</td><td> 7718</td><td>12.5</td><td>0.454</td><td>-0.70</td><td>-0.65</td><td>-0.27</td><td>-0.89</td><td>-1.14</td><td> 0.00</td><td>26.92</td><td>29.33</td><td>36.67</td><td>19.23</td><td>10.58</td><td>46.80</td></tr>\n",
              "\t<tr><td> 2</td><td>BOL</td><td>2016-01</td><td>0.692</td><td>0.725</td><td> 8057</td><td>12.6</td><td>0.466</td><td>-0.72</td><td>-0.57</td><td>-0.25</td><td>-0.92</td><td>-1.20</td><td>-0.04</td><td>25.00</td><td>33.17</td><td>36.67</td><td>17.31</td><td> 9.62</td><td>45.32</td></tr>\n",
              "\t<tr><td> 2</td><td>BOL</td><td>2017-01</td><td>0.700</td><td>0.735</td><td> 8186</td><td>12.7</td><td>0.461</td><td>-0.66</td><td>-0.38</td><td>-0.28</td><td>-0.90</td><td>-1.21</td><td>-0.02</td><td>28.37</td><td>37.98</td><td>34.29</td><td>16.35</td><td> 9.62</td><td>45.32</td></tr>\n",
              "\t<tr><td> 2</td><td>BOL</td><td>2018-01</td><td>0.703</td><td>0.737</td><td> 8445</td><td>12.7</td><td>0.438</td><td>-0.62</td><td>-0.32</td><td>-0.28</td><td>-0.91</td><td>-1.15</td><td>-0.04</td><td>28.85</td><td>39.90</td><td>37.14</td><td>15.38</td><td> 9.62</td><td>44.33</td></tr>\n",
              "\t<tr><td> 3</td><td>BRA</td><td>2013-01</td><td>0.752</td><td>0.748</td><td>15579</td><td>15.4</td><td>0.522</td><td>-0.08</td><td>-0.09</td><td>-0.26</td><td> 0.07</td><td>-0.08</td><td> 0.42</td><td>55.92</td><td>50.71</td><td>36.97</td><td>54.50</td><td>52.58</td><td>60.56</td></tr>\n",
              "\t<tr><td> 3</td><td>BRA</td><td>2014-01</td><td>0.755</td><td>0.753</td><td>15450</td><td>15.9</td><td>0.514</td><td>-0.34</td><td>-0.14</td><td>-0.07</td><td>-0.08</td><td>-0.05</td><td> 0.47</td><td>46.63</td><td>47.60</td><td>42.86</td><td>51.44</td><td>56.25</td><td>62.07</td></tr>\n",
              "\t<tr><td> 3</td><td>BRA</td><td>2015-01</td><td>0.755</td><td>0.757</td><td>14775</td><td>16.3</td><td>0.511</td><td>-0.40</td><td>-0.18</td><td>-0.33</td><td>-0.19</td><td>-0.15</td><td> 0.46</td><td>42.79</td><td>48.08</td><td>34.29</td><td>48.08</td><td>51.44</td><td>62.07</td></tr>\n",
              "\t<tr><td> 3</td><td>BRA</td><td>2016-01</td><td>0.757</td><td>0.763</td><td>14139</td><td>17.3</td><td>0.532</td><td>-0.38</td><td>-0.17</td><td>-0.38</td><td>-0.21</td><td>-0.16</td><td> 0.45</td><td>42.79</td><td>46.63</td><td>31.90</td><td>46.63</td><td>49.04</td><td>62.07</td></tr>\n",
              "\t<tr><td> 3</td><td>BRA</td><td>2017-01</td><td>0.760</td><td>0.767</td><td>14248</td><td>17.6</td><td>0.533</td><td>-0.53</td><td>-0.29</td><td>-0.42</td><td>-0.11</td><td>-0.28</td><td> 0.45</td><td>36.06</td><td>41.83</td><td>30.48</td><td>51.44</td><td>43.27</td><td>61.58</td></tr>\n",
              "\t<tr><td> 3</td><td>BRA</td><td>2018-01</td><td>0.761</td><td>0.768</td><td>14182</td><td>17.7</td><td>0.540</td><td>-0.40</td><td>-0.45</td><td>-0.39</td><td>-0.32</td><td>-0.25</td><td> 0.40</td><td>40.38</td><td>36.06</td><td>32.38</td><td>39.90</td><td>44.71</td><td>60.59</td></tr>\n",
              "\t<tr><td> 4</td><td>CHL</td><td>2013-01</td><td>0.830</td><td>0.841</td><td>22056</td><td>14.7</td><td>0.466</td><td> 1.54</td><td> 1.26</td><td> 0.36</td><td> 1.49</td><td> 1.37</td><td> 1.11</td><td>90.52</td><td>86.73</td><td>59.72</td><td>91.94</td><td>87.79</td><td>84.51</td></tr>\n",
              "\t<tr><td> 4</td><td>CHL</td><td>2014-01</td><td>0.834</td><td>0.847</td><td>22501</td><td>15.0</td><td>0.460</td><td> 1.49</td><td> 1.16</td><td> 0.45</td><td> 1.49</td><td> 1.43</td><td> 1.06</td><td>90.87</td><td>84.62</td><td>60.00</td><td>91.83</td><td>87.98</td><td>80.79</td></tr>\n",
              "\t<tr><td> 4</td><td>CHL</td><td>2015-01</td><td>0.839</td><td>0.853</td><td>22949</td><td>15.8</td><td>0.453</td><td> 1.28</td><td> 1.09</td><td> 0.43</td><td> 1.35</td><td> 1.34</td><td> 1.00</td><td>87.50</td><td>83.17</td><td>60.00</td><td>88.94</td><td>87.02</td><td>79.31</td></tr>\n",
              "\t<tr><td> 4</td><td>CHL</td><td>2016-01</td><td>0.843</td><td>0.858</td><td>23003</td><td>16.1</td><td>0.454</td><td> 1.14</td><td> 1.01</td><td> 0.41</td><td> 1.37</td><td> 1.13</td><td> 1.00</td><td>82.69</td><td>79.33</td><td>60.48</td><td>89.90</td><td>85.10</td><td>77.83</td></tr>\n",
              "\t<tr><td> 4</td><td>CHL</td><td>2017-01</td><td>0.845</td><td>0.863</td><td>22685</td><td>16.4</td><td>0.454</td><td> 1.04</td><td> 0.84</td><td> 0.42</td><td> 1.34</td><td> 1.01</td><td> 1.00</td><td>82.21</td><td>77.88</td><td>61.90</td><td>88.94</td><td>81.73</td><td>79.31</td></tr>\n",
              "\t<tr><td> 4</td><td>CHL</td><td>2018-01</td><td>0.847</td><td>0.864</td><td>23222</td><td>16.4</td><td>0.454</td><td> 1.05</td><td> 1.08</td><td> 0.44</td><td> 1.34</td><td> 1.09</td><td> 1.06</td><td>82.21</td><td>81.73</td><td>60.95</td><td>88.46</td><td>83.17</td><td>82.27</td></tr>\n",
              "\t<tr><td> 5</td><td>COL</td><td>2013-01</td><td>0.746</td><td>0.757</td><td>13032</td><td>12.8</td><td>0.540</td><td>-0.41</td><td> 0.07</td><td>-1.29</td><td> 0.40</td><td>-0.41</td><td>-0.08</td><td>42.18</td><td>57.82</td><td>10.43</td><td>63.98</td><td>41.78</td><td>45.54</td></tr>\n",
              "\t<tr><td> 5</td><td>COL</td><td>2014-01</td><td>0.750</td><td>0.760</td><td>13564</td><td>12.9</td><td>0.540</td><td>-0.37</td><td>-0.10</td><td>-1.11</td><td> 0.50</td><td>-0.29</td><td>-0.04</td><td>44.23</td><td>49.52</td><td>10.95</td><td>67.79</td><td>44.71</td><td>47.78</td></tr>\n",
              "\t<tr><td> 5</td><td>COL</td><td>2015-01</td><td>0.753</td><td>0.763</td><td>14038</td><td>13.0</td><td>0.524</td><td>-0.30</td><td>-0.04</td><td>-1.07</td><td> 0.47</td><td>-0.27</td><td> 0.00</td><td>47.60</td><td>52.40</td><td>12.86</td><td>68.75</td><td>46.63</td><td>47.78</td></tr>\n",
              "\t<tr><td> 5</td><td>COL</td><td>2016-01</td><td>0.759</td><td>0.770</td><td>14186</td><td>12.5</td><td>0.521</td><td>-0.32</td><td> 0.02</td><td>-0.88</td><td> 0.40</td><td>-0.28</td><td> 0.12</td><td>44.71</td><td>53.37</td><td>16.19</td><td>67.31</td><td>43.75</td><td>49.75</td></tr>\n",
              "\t<tr><td> 5</td><td>COL</td><td>2017-01</td><td>0.760</td><td>0.774</td><td>14055</td><td>13.4</td><td>0.511</td><td>-0.37</td><td>-0.07</td><td>-0.77</td><td> 0.34</td><td>-0.36</td><td> 0.11</td><td>43.75</td><td>51.44</td><td>17.62</td><td>65.87</td><td>40.38</td><td>49.26</td></tr>\n",
              "\t<tr><td> 5</td><td>COL</td><td>2018-01</td><td>0.761</td><td>0.775</td><td>14085</td><td>12.6</td><td>0.520</td><td>-0.29</td><td>-0.09</td><td>-0.79</td><td> 0.32</td><td>-0.41</td><td> 0.19</td><td>45.19</td><td>50.00</td><td>19.52</td><td>64.42</td><td>38.46</td><td>52.71</td></tr>\n",
              "\t<tr><td> 6</td><td>ECU</td><td>2013-01</td><td>0.751</td><td>0.777</td><td>11647</td><td> 9.2</td><td>0.470</td><td>-0.57</td><td>-0.50</td><td>-0.18</td><td>-0.93</td><td>-0.97</td><td>-0.25</td><td>35.07</td><td>36.02</td><td>39.34</td><td>19.91</td><td>17.37</td><td>40.38</td></tr>\n",
              "\t<tr><td> 6</td><td>ECU</td><td>2014-01</td><td>0.750</td><td>0.773</td><td>11892</td><td> 8.5</td><td>0.449</td><td>-0.75</td><td>-0.47</td><td>-0.02</td><td>-1.01</td><td>-1.06</td><td>-0.20</td><td>25.00</td><td>35.58</td><td>45.24</td><td>15.87</td><td>12.02</td><td>39.90</td></tr>\n",
              "\t<tr><td> 6</td><td>ECU</td><td>2015-01</td><td>0.758</td><td>0.787</td><td>11693</td><td> 8.4</td><td>0.462</td><td>-0.67</td><td>-0.44</td><td>-0.14</td><td>-1.16</td><td>-1.03</td><td>-0.21</td><td>28.37</td><td>38.46</td><td>40.95</td><td>11.54</td><td>13.94</td><td>39.41</td></tr>\n",
              "\t<tr><td> 6</td><td>ECU</td><td>2016-01</td><td>0.756</td><td>0.787</td><td>11346</td><td> 8.8</td><td>0.450</td><td>-0.68</td><td>-0.43</td><td>-0.09</td><td>-1.02</td><td>-0.76</td><td>-0.25</td><td>27.40</td><td>37.50</td><td>44.29</td><td>12.98</td><td>25.00</td><td>38.42</td></tr>\n",
              "\t<tr><td> 6</td><td>ECU</td><td>2017-01</td><td>0.757</td><td>0.789</td><td>11360</td><td> 9.2</td><td>0.444</td><td>-0.60</td><td>-0.32</td><td>-0.07</td><td>-1.00</td><td>-0.70</td><td>-0.17</td><td>30.77</td><td>39.90</td><td>41.43</td><td>14.42</td><td>25.48</td><td>40.89</td></tr>\n",
              "\t<tr><td> 6</td><td>ECU</td><td>2018-01</td><td>0.758</td><td>0.790</td><td>11256</td><td> 9.0</td><td>0.454</td><td>-0.57</td><td>-0.26</td><td>-0.08</td><td>-0.87</td><td>-0.64</td><td> 0.02</td><td>32.21</td><td>42.79</td><td>43.33</td><td>16.83</td><td>28.37</td><td>47.29</td></tr>\n",
              "\t<tr><td> 7</td><td>PAR</td><td>2013-01</td><td>0.709</td><td>0.715</td><td>10777</td><td> 8.2</td><td>0.495</td><td>-1.04</td><td>-0.87</td><td>-0.74</td><td>-0.31</td><td>-0.81</td><td>-0.10</td><td>14.22</td><td>21.33</td><td>22.75</td><td>42.65</td><td>23.47</td><td>44.60</td></tr>\n",
              "\t<tr><td> 7</td><td>PAR</td><td>2014-01</td><td>0.712</td><td>0.717</td><td>11188</td><td> 8.4</td><td>0.522</td><td>-0.97</td><td>-0.92</td><td>-0.09</td><td>-0.28</td><td>-0.67</td><td>-0.10</td><td>15.38</td><td>17.31</td><td>42.38</td><td>43.27</td><td>28.37</td><td>45.32</td></tr>\n",
              "\t<tr><td> 7</td><td>PAR</td><td>2015-01</td><td>0.718</td><td>0.724</td><td>11371</td><td> 8.8</td><td>0.494</td><td>-0.95</td><td>-0.95</td><td> 0.04</td><td>-0.27</td><td>-0.69</td><td>-0.07</td><td>15.87</td><td>17.31</td><td>48.57</td><td>44.71</td><td>28.85</td><td>44.83</td></tr>\n",
              "\t<tr><td> 7</td><td>PAR</td><td>2016-01</td><td>0.718</td><td>0.723</td><td>11668</td><td> 8.5</td><td>0.497</td><td>-0.71</td><td>-0.79</td><td> 0.14</td><td>-0.30</td><td>-0.73</td><td>-0.06</td><td>26.92</td><td>20.67</td><td>50.48</td><td>42.31</td><td>25.48</td><td>44.33</td></tr>\n",
              "\t<tr><td> 7</td><td>PAR</td><td>2017-01</td><td>0.722</td><td>0.726</td><td>12205</td><td> 8.6</td><td>0.503</td><td>-0.73</td><td>-0.82</td><td> 0.00</td><td>-0.23</td><td>-0.65</td><td>-0.04</td><td>25.00</td><td>19.71</td><td>46.19</td><td>44.23</td><td>28.85</td><td>44.33</td></tr>\n",
              "\t<tr><td> 7</td><td>PAR</td><td>2018-01</td><td>0.724</td><td>0.727</td><td>12420</td><td> 8.6</td><td>0.474</td><td>-0.84</td><td>-0.52</td><td>-0.07</td><td>-0.08</td><td>-0.52</td><td> 0.06</td><td>21.15</td><td>34.13</td><td>44.29</td><td>52.40</td><td>32.69</td><td>49.75</td></tr>\n",
              "\t<tr><td> 8</td><td>PER</td><td>2013-01</td><td>0.742</td><td>0.757</td><td>11113</td><td>10.3</td><td>0.453</td><td>-0.42</td><td>-0.11</td><td>-0.81</td><td> 0.46</td><td>-0.57</td><td> 0.08</td><td>41.23</td><td>49.76</td><td>20.38</td><td>66.35</td><td>34.74</td><td>52.11</td></tr>\n",
              "\t<tr><td> 8</td><td>PER</td><td>2014-01</td><td>0.752</td><td>0.771</td><td>11339</td><td>11.1</td><td>0.446</td><td>-0.56</td><td>-0.27</td><td>-0.55</td><td> 0.52</td><td>-0.52</td><td> 0.19</td><td>34.13</td><td>44.23</td><td>27.14</td><td>68.75</td><td>34.13</td><td>54.68</td></tr>\n",
              "\t<tr><td> 8</td><td>PER</td><td>2015-01</td><td>0.750</td><td>0.766</td><td>11706</td><td>11.0</td><td>0.449</td><td>-0.53</td><td>-0.28</td><td>-0.40</td><td> 0.49</td><td>-0.49</td><td> 0.23</td><td>34.62</td><td>44.23</td><td>32.38</td><td>69.23</td><td>37.50</td><td>54.68</td></tr>\n",
              "\t<tr><td> 8</td><td>PER</td><td>2016-01</td><td>0.755</td><td>0.772</td><td>11900</td><td>10.4</td><td>0.452</td><td>-0.37</td><td>-0.18</td><td>-0.20</td><td> 0.51</td><td>-0.48</td><td> 0.27</td><td>43.27</td><td>45.67</td><td>38.10</td><td>69.71</td><td>34.13</td><td>55.17</td></tr>\n",
              "\t<tr><td> 8</td><td>PER</td><td>2017-01</td><td>0.756</td><td>0.774</td><td>11931</td><td>11.4</td><td>0.448</td><td>-0.50</td><td>-0.13</td><td>-0.26</td><td> 0.42</td><td>-0.50</td><td> 0.27</td><td>38.94</td><td>48.56</td><td>36.19</td><td>67.31</td><td>33.17</td><td>55.17</td></tr>\n",
              "\t<tr><td> 8</td><td>PER</td><td>2018-01</td><td>0.759</td><td>0.775</td><td>12155</td><td>11.1</td><td>0.439</td><td>-0.53</td><td>-0.25</td><td>-0.26</td><td> 0.50</td><td>-0.53</td><td> 0.23</td><td>34.62</td><td>44.23</td><td>37.62</td><td>69.23</td><td>32.21</td><td>55.17</td></tr>\n",
              "\t<tr><td> 9</td><td>URY</td><td>2013-01</td><td>0.797</td><td>0.802</td><td>18924</td><td>14.2</td><td>0.397</td><td> 1.38</td><td> 0.45</td><td> 0.80</td><td> 0.54</td><td> 0.56</td><td> 1.09</td><td>89.57</td><td>66.82</td><td>71.56</td><td>68.72</td><td>67.14</td><td>83.57</td></tr>\n",
              "\t<tr><td> 9</td><td>URY</td><td>2014-01</td><td>0.800</td><td>0.805</td><td>19262</td><td>14.3</td><td>0.392</td><td> 1.38</td><td> 0.48</td><td> 0.99</td><td> 0.53</td><td> 0.71</td><td> 1.11</td><td>89.90</td><td>71.15</td><td>83.81</td><td>69.23</td><td>75.96</td><td>83.25</td></tr>\n",
              "\t<tr><td> 9</td><td>URY</td><td>2015-01</td><td>0.802</td><td>0.807</td><td>19679</td><td>14.9</td><td>0.392</td><td> 1.32</td><td> 0.53</td><td> 1.00</td><td> 0.42</td><td> 0.71</td><td> 1.14</td><td>89.42</td><td>72.60</td><td>85.24</td><td>67.31</td><td>75.00</td><td>85.71</td></tr>\n",
              "\t<tr><td> 9</td><td>URY</td><td>2016-01</td><td>0.806</td><td>0.812</td><td>19844</td><td>15.9</td><td>0.391</td><td> 1.27</td><td> 0.57</td><td> 1.06</td><td> 0.49</td><td> 0.63</td><td> 1.16</td><td>88.46</td><td>73.08</td><td>90.00</td><td>69.23</td><td>73.56</td><td>86.70</td></tr>\n",
              "\t<tr><td> 9</td><td>URY</td><td>2017-01</td><td>0.807</td><td>0.813</td><td>20056</td><td>16.8</td><td>0.390</td><td> 1.29</td><td> 0.43</td><td> 1.05</td><td> 0.66</td><td> 0.59</td><td> 1.17</td><td>88.46</td><td>68.27</td><td>87.14</td><td>73.56</td><td>72.12</td><td>86.70</td></tr>\n",
              "\t<tr><td> 9</td><td>URY</td><td>2018-01</td><td>0.808</td><td>0.814</td><td>20091</td><td>17.2</td><td>0.391</td><td> 1.26</td><td> 0.56</td><td> 1.04</td><td> 0.51</td><td> 0.59</td><td> 1.21</td><td>87.50</td><td>73.08</td><td>87.62</td><td>70.19</td><td>73.08</td><td>89.66</td></tr>\n",
              "\t<tr><td>10</td><td>VEN</td><td>2013-01</td><td>0.772</td><td>0.768</td><td>19360</td><td>16.1</td><td>0.388</td><td>-1.31</td><td>-1.17</td><td>-1.08</td><td>-1.63</td><td>-1.82</td><td>-0.95</td><td> 5.69</td><td>12.32</td><td>16.59</td><td> 2.84</td><td> 0.47</td><td>22.07</td></tr>\n",
              "\t<tr><td>10</td><td>VEN</td><td>2014-01</td><td>0.770</td><td>0.767</td><td>18833</td><td>18.8</td><td>0.378</td><td>-1.40</td><td>-1.23</td><td>-0.85</td><td>-1.82</td><td>-1.92</td><td>-1.08</td><td> 4.33</td><td>11.06</td><td>18.10</td><td> 2.88</td><td> 0.48</td><td>19.70</td></tr>\n",
              "\t<tr><td>10</td><td>VEN</td><td>2015-01</td><td>0.763</td><td>0.765</td><td>17214</td><td>18.8</td><td>0.381</td><td>-1.39</td><td>-1.22</td><td>-0.98</td><td>-1.88</td><td>-2.03</td><td>-1.09</td><td> 4.33</td><td>10.58</td><td>15.71</td><td> 2.40</td><td> 0.48</td><td>19.70</td></tr>\n",
              "\t<tr><td>10</td><td>VEN</td><td>2016-01</td><td>0.752</td><td>0.763</td><td>14528</td><td>18.8</td><td>0.380</td><td>-1.35</td><td>-1.29</td><td>-1.02</td><td>-2.00</td><td>-2.24</td><td>-1.14</td><td> 6.73</td><td> 8.17</td><td>13.81</td><td> 2.40</td><td> 0.48</td><td>17.24</td></tr>\n",
              "\t<tr><td>10</td><td>VEN</td><td>2017-01</td><td>0.735</td><td>0.750</td><td>12436</td><td>18.8</td><td>0.381</td><td>-1.36</td><td>-1.40</td><td>-1.25</td><td>-1.96</td><td>-2.26</td><td>-1.21</td><td> 7.21</td><td> 7.69</td><td>10.95</td><td> 2.40</td><td> 0.48</td><td>14.29</td></tr>\n",
              "\t<tr><td>10</td><td>VEN</td><td>2018-01</td><td>0.726</td><td>0.749</td><td>10380</td><td>18.8</td><td>0.377</td><td>-1.47</td><td>-1.58</td><td>-1.32</td><td>-2.36</td><td>-2.32</td><td>-1.41</td><td> 4.81</td><td> 4.81</td><td>10.00</td><td> 1.00</td><td> 0.48</td><td>10.34</td></tr>\n",
              "</tbody>\n",
              "</table>\n"
            ],
            "text/markdown": "\nA data.frame: 60 × 20\n\n| ID &lt;int&gt; | COD &lt;chr&gt; | YEAR &lt;chr&gt; | IDH &lt;dbl&gt; | IDHr &lt;dbl&gt; | INBpc &lt;int&gt; | GasSocial &lt;dbl&gt; | IGINICEPAL &lt;dbl&gt; | CONTCORR &lt;dbl&gt; | EGOB &lt;dbl&gt; | ESTPOL &lt;dbl&gt; | CALIREG &lt;dbl&gt; | RJUE &lt;dbl&gt; | VOZYREND &lt;dbl&gt; | CONTCORRp &lt;dbl&gt; | EGOBp &lt;dbl&gt; | ESTPOLp &lt;dbl&gt; | CALIREGp &lt;dbl&gt; | RJUEp &lt;dbl&gt; | VOZYRENDp &lt;dbl&gt; |\n|---|---|---|---|---|---|---|---|---|---|---|---|---|---|---|---|---|---|---|---|\n|  1 | ARG | 2013-01 | 0.824 | 0.840 | 23852 | 13.0 | 0.389 | -0.43 | -0.28 |  0.07 | -0.96 | -0.71 |  0.28 | 40.28 | 45.97 | 48.34 | 18.01 | 29.58 | 56.81 |\n|  1 | ARG | 2014-01 | 0.825 | 0.843 | 23048 | 13.0 | 0.391 | -0.54 | -0.16 | -0.01 | -1.07 | -0.89 |  0.35 | 35.10 | 46.63 | 45.71 | 12.50 | 18.75 | 59.11 |\n|  1 | ARG | 2015-01 | 0.828 | 0.847 | 23466 | 14.1 | 0.392 | -0.55 | -0.08 |  0.01 | -0.91 | -0.77 |  0.41 | 33.65 | 50.00 | 46.19 | 17.31 | 24.04 | 60.10 |\n|  1 | ARG | 2016-01 | 0.828 | 0.849 | 22697 | 14.2 | 0.393 | -0.28 |  0.16 |  0.20 | -0.47 | -0.39 |  0.49 | 47.12 | 60.10 | 52.86 | 33.65 | 37.50 | 63.55 |\n|  1 | ARG | 2017-01 | 0.832 | 0.854 | 22962 | 14.6 | 0.388 | -0.26 |  0.15 |  0.17 | -0.29 | -0.25 |  0.53 | 47.60 | 58.65 | 53.33 | 41.35 | 46.15 | 65.52 |\n|  1 | ARG | 2018-01 | 0.830 | 0.856 | 21918 | 13.5 | 0.396 | -0.07 |  0.03 |  0.02 | -0.29 | -0.24 |  0.56 | 55.29 | 54.81 | 47.62 | 42.31 | 45.67 | 66.50 |\n|  2 | BOL | 2013-01 | 0.673 | 0.707 |  6937 | 10.9 | 0.480 | -0.59 | -0.39 | -0.33 | -0.78 | -1.05 | -0.07 | 34.60 | 43.13 | 36.49 | 24.17 | 15.02 | 46.48 |\n|  2 | BOL | 2014-01 | 0.678 | 0.712 |  7314 | 11.6 | 0.471 | -0.63 | -0.59 | -0.33 | -0.87 | -1.06 | -0.03 | 30.29 | 28.85 | 33.33 | 20.67 | 12.98 | 48.28 |\n|  2 | BOL | 2015-01 | 0.685 | 0.717 |  7718 | 12.5 | 0.454 | -0.70 | -0.65 | -0.27 | -0.89 | -1.14 |  0.00 | 26.92 | 29.33 | 36.67 | 19.23 | 10.58 | 46.80 |\n|  2 | BOL | 2016-01 | 0.692 | 0.725 |  8057 | 12.6 | 0.466 | -0.72 | -0.57 | -0.25 | -0.92 | -1.20 | -0.04 | 25.00 | 33.17 | 36.67 | 17.31 |  9.62 | 45.32 |\n|  2 | BOL | 2017-01 | 0.700 | 0.735 |  8186 | 12.7 | 0.461 | -0.66 | -0.38 | -0.28 | -0.90 | -1.21 | -0.02 | 28.37 | 37.98 | 34.29 | 16.35 |  9.62 | 45.32 |\n|  2 | BOL | 2018-01 | 0.703 | 0.737 |  8445 | 12.7 | 0.438 | -0.62 | -0.32 | -0.28 | -0.91 | -1.15 | -0.04 | 28.85 | 39.90 | 37.14 | 15.38 |  9.62 | 44.33 |\n|  3 | BRA | 2013-01 | 0.752 | 0.748 | 15579 | 15.4 | 0.522 | -0.08 | -0.09 | -0.26 |  0.07 | -0.08 |  0.42 | 55.92 | 50.71 | 36.97 | 54.50 | 52.58 | 60.56 |\n|  3 | BRA | 2014-01 | 0.755 | 0.753 | 15450 | 15.9 | 0.514 | -0.34 | -0.14 | -0.07 | -0.08 | -0.05 |  0.47 | 46.63 | 47.60 | 42.86 | 51.44 | 56.25 | 62.07 |\n|  3 | BRA | 2015-01 | 0.755 | 0.757 | 14775 | 16.3 | 0.511 | -0.40 | -0.18 | -0.33 | -0.19 | -0.15 |  0.46 | 42.79 | 48.08 | 34.29 | 48.08 | 51.44 | 62.07 |\n|  3 | BRA | 2016-01 | 0.757 | 0.763 | 14139 | 17.3 | 0.532 | -0.38 | -0.17 | -0.38 | -0.21 | -0.16 |  0.45 | 42.79 | 46.63 | 31.90 | 46.63 | 49.04 | 62.07 |\n|  3 | BRA | 2017-01 | 0.760 | 0.767 | 14248 | 17.6 | 0.533 | -0.53 | -0.29 | -0.42 | -0.11 | -0.28 |  0.45 | 36.06 | 41.83 | 30.48 | 51.44 | 43.27 | 61.58 |\n|  3 | BRA | 2018-01 | 0.761 | 0.768 | 14182 | 17.7 | 0.540 | -0.40 | -0.45 | -0.39 | -0.32 | -0.25 |  0.40 | 40.38 | 36.06 | 32.38 | 39.90 | 44.71 | 60.59 |\n|  4 | CHL | 2013-01 | 0.830 | 0.841 | 22056 | 14.7 | 0.466 |  1.54 |  1.26 |  0.36 |  1.49 |  1.37 |  1.11 | 90.52 | 86.73 | 59.72 | 91.94 | 87.79 | 84.51 |\n|  4 | CHL | 2014-01 | 0.834 | 0.847 | 22501 | 15.0 | 0.460 |  1.49 |  1.16 |  0.45 |  1.49 |  1.43 |  1.06 | 90.87 | 84.62 | 60.00 | 91.83 | 87.98 | 80.79 |\n|  4 | CHL | 2015-01 | 0.839 | 0.853 | 22949 | 15.8 | 0.453 |  1.28 |  1.09 |  0.43 |  1.35 |  1.34 |  1.00 | 87.50 | 83.17 | 60.00 | 88.94 | 87.02 | 79.31 |\n|  4 | CHL | 2016-01 | 0.843 | 0.858 | 23003 | 16.1 | 0.454 |  1.14 |  1.01 |  0.41 |  1.37 |  1.13 |  1.00 | 82.69 | 79.33 | 60.48 | 89.90 | 85.10 | 77.83 |\n|  4 | CHL | 2017-01 | 0.845 | 0.863 | 22685 | 16.4 | 0.454 |  1.04 |  0.84 |  0.42 |  1.34 |  1.01 |  1.00 | 82.21 | 77.88 | 61.90 | 88.94 | 81.73 | 79.31 |\n|  4 | CHL | 2018-01 | 0.847 | 0.864 | 23222 | 16.4 | 0.454 |  1.05 |  1.08 |  0.44 |  1.34 |  1.09 |  1.06 | 82.21 | 81.73 | 60.95 | 88.46 | 83.17 | 82.27 |\n|  5 | COL | 2013-01 | 0.746 | 0.757 | 13032 | 12.8 | 0.540 | -0.41 |  0.07 | -1.29 |  0.40 | -0.41 | -0.08 | 42.18 | 57.82 | 10.43 | 63.98 | 41.78 | 45.54 |\n|  5 | COL | 2014-01 | 0.750 | 0.760 | 13564 | 12.9 | 0.540 | -0.37 | -0.10 | -1.11 |  0.50 | -0.29 | -0.04 | 44.23 | 49.52 | 10.95 | 67.79 | 44.71 | 47.78 |\n|  5 | COL | 2015-01 | 0.753 | 0.763 | 14038 | 13.0 | 0.524 | -0.30 | -0.04 | -1.07 |  0.47 | -0.27 |  0.00 | 47.60 | 52.40 | 12.86 | 68.75 | 46.63 | 47.78 |\n|  5 | COL | 2016-01 | 0.759 | 0.770 | 14186 | 12.5 | 0.521 | -0.32 |  0.02 | -0.88 |  0.40 | -0.28 |  0.12 | 44.71 | 53.37 | 16.19 | 67.31 | 43.75 | 49.75 |\n|  5 | COL | 2017-01 | 0.760 | 0.774 | 14055 | 13.4 | 0.511 | -0.37 | -0.07 | -0.77 |  0.34 | -0.36 |  0.11 | 43.75 | 51.44 | 17.62 | 65.87 | 40.38 | 49.26 |\n|  5 | COL | 2018-01 | 0.761 | 0.775 | 14085 | 12.6 | 0.520 | -0.29 | -0.09 | -0.79 |  0.32 | -0.41 |  0.19 | 45.19 | 50.00 | 19.52 | 64.42 | 38.46 | 52.71 |\n|  6 | ECU | 2013-01 | 0.751 | 0.777 | 11647 |  9.2 | 0.470 | -0.57 | -0.50 | -0.18 | -0.93 | -0.97 | -0.25 | 35.07 | 36.02 | 39.34 | 19.91 | 17.37 | 40.38 |\n|  6 | ECU | 2014-01 | 0.750 | 0.773 | 11892 |  8.5 | 0.449 | -0.75 | -0.47 | -0.02 | -1.01 | -1.06 | -0.20 | 25.00 | 35.58 | 45.24 | 15.87 | 12.02 | 39.90 |\n|  6 | ECU | 2015-01 | 0.758 | 0.787 | 11693 |  8.4 | 0.462 | -0.67 | -0.44 | -0.14 | -1.16 | -1.03 | -0.21 | 28.37 | 38.46 | 40.95 | 11.54 | 13.94 | 39.41 |\n|  6 | ECU | 2016-01 | 0.756 | 0.787 | 11346 |  8.8 | 0.450 | -0.68 | -0.43 | -0.09 | -1.02 | -0.76 | -0.25 | 27.40 | 37.50 | 44.29 | 12.98 | 25.00 | 38.42 |\n|  6 | ECU | 2017-01 | 0.757 | 0.789 | 11360 |  9.2 | 0.444 | -0.60 | -0.32 | -0.07 | -1.00 | -0.70 | -0.17 | 30.77 | 39.90 | 41.43 | 14.42 | 25.48 | 40.89 |\n|  6 | ECU | 2018-01 | 0.758 | 0.790 | 11256 |  9.0 | 0.454 | -0.57 | -0.26 | -0.08 | -0.87 | -0.64 |  0.02 | 32.21 | 42.79 | 43.33 | 16.83 | 28.37 | 47.29 |\n|  7 | PAR | 2013-01 | 0.709 | 0.715 | 10777 |  8.2 | 0.495 | -1.04 | -0.87 | -0.74 | -0.31 | -0.81 | -0.10 | 14.22 | 21.33 | 22.75 | 42.65 | 23.47 | 44.60 |\n|  7 | PAR | 2014-01 | 0.712 | 0.717 | 11188 |  8.4 | 0.522 | -0.97 | -0.92 | -0.09 | -0.28 | -0.67 | -0.10 | 15.38 | 17.31 | 42.38 | 43.27 | 28.37 | 45.32 |\n|  7 | PAR | 2015-01 | 0.718 | 0.724 | 11371 |  8.8 | 0.494 | -0.95 | -0.95 |  0.04 | -0.27 | -0.69 | -0.07 | 15.87 | 17.31 | 48.57 | 44.71 | 28.85 | 44.83 |\n|  7 | PAR | 2016-01 | 0.718 | 0.723 | 11668 |  8.5 | 0.497 | -0.71 | -0.79 |  0.14 | -0.30 | -0.73 | -0.06 | 26.92 | 20.67 | 50.48 | 42.31 | 25.48 | 44.33 |\n|  7 | PAR | 2017-01 | 0.722 | 0.726 | 12205 |  8.6 | 0.503 | -0.73 | -0.82 |  0.00 | -0.23 | -0.65 | -0.04 | 25.00 | 19.71 | 46.19 | 44.23 | 28.85 | 44.33 |\n|  7 | PAR | 2018-01 | 0.724 | 0.727 | 12420 |  8.6 | 0.474 | -0.84 | -0.52 | -0.07 | -0.08 | -0.52 |  0.06 | 21.15 | 34.13 | 44.29 | 52.40 | 32.69 | 49.75 |\n|  8 | PER | 2013-01 | 0.742 | 0.757 | 11113 | 10.3 | 0.453 | -0.42 | -0.11 | -0.81 |  0.46 | -0.57 |  0.08 | 41.23 | 49.76 | 20.38 | 66.35 | 34.74 | 52.11 |\n|  8 | PER | 2014-01 | 0.752 | 0.771 | 11339 | 11.1 | 0.446 | -0.56 | -0.27 | -0.55 |  0.52 | -0.52 |  0.19 | 34.13 | 44.23 | 27.14 | 68.75 | 34.13 | 54.68 |\n|  8 | PER | 2015-01 | 0.750 | 0.766 | 11706 | 11.0 | 0.449 | -0.53 | -0.28 | -0.40 |  0.49 | -0.49 |  0.23 | 34.62 | 44.23 | 32.38 | 69.23 | 37.50 | 54.68 |\n|  8 | PER | 2016-01 | 0.755 | 0.772 | 11900 | 10.4 | 0.452 | -0.37 | -0.18 | -0.20 |  0.51 | -0.48 |  0.27 | 43.27 | 45.67 | 38.10 | 69.71 | 34.13 | 55.17 |\n|  8 | PER | 2017-01 | 0.756 | 0.774 | 11931 | 11.4 | 0.448 | -0.50 | -0.13 | -0.26 |  0.42 | -0.50 |  0.27 | 38.94 | 48.56 | 36.19 | 67.31 | 33.17 | 55.17 |\n|  8 | PER | 2018-01 | 0.759 | 0.775 | 12155 | 11.1 | 0.439 | -0.53 | -0.25 | -0.26 |  0.50 | -0.53 |  0.23 | 34.62 | 44.23 | 37.62 | 69.23 | 32.21 | 55.17 |\n|  9 | URY | 2013-01 | 0.797 | 0.802 | 18924 | 14.2 | 0.397 |  1.38 |  0.45 |  0.80 |  0.54 |  0.56 |  1.09 | 89.57 | 66.82 | 71.56 | 68.72 | 67.14 | 83.57 |\n|  9 | URY | 2014-01 | 0.800 | 0.805 | 19262 | 14.3 | 0.392 |  1.38 |  0.48 |  0.99 |  0.53 |  0.71 |  1.11 | 89.90 | 71.15 | 83.81 | 69.23 | 75.96 | 83.25 |\n|  9 | URY | 2015-01 | 0.802 | 0.807 | 19679 | 14.9 | 0.392 |  1.32 |  0.53 |  1.00 |  0.42 |  0.71 |  1.14 | 89.42 | 72.60 | 85.24 | 67.31 | 75.00 | 85.71 |\n|  9 | URY | 2016-01 | 0.806 | 0.812 | 19844 | 15.9 | 0.391 |  1.27 |  0.57 |  1.06 |  0.49 |  0.63 |  1.16 | 88.46 | 73.08 | 90.00 | 69.23 | 73.56 | 86.70 |\n|  9 | URY | 2017-01 | 0.807 | 0.813 | 20056 | 16.8 | 0.390 |  1.29 |  0.43 |  1.05 |  0.66 |  0.59 |  1.17 | 88.46 | 68.27 | 87.14 | 73.56 | 72.12 | 86.70 |\n|  9 | URY | 2018-01 | 0.808 | 0.814 | 20091 | 17.2 | 0.391 |  1.26 |  0.56 |  1.04 |  0.51 |  0.59 |  1.21 | 87.50 | 73.08 | 87.62 | 70.19 | 73.08 | 89.66 |\n| 10 | VEN | 2013-01 | 0.772 | 0.768 | 19360 | 16.1 | 0.388 | -1.31 | -1.17 | -1.08 | -1.63 | -1.82 | -0.95 |  5.69 | 12.32 | 16.59 |  2.84 |  0.47 | 22.07 |\n| 10 | VEN | 2014-01 | 0.770 | 0.767 | 18833 | 18.8 | 0.378 | -1.40 | -1.23 | -0.85 | -1.82 | -1.92 | -1.08 |  4.33 | 11.06 | 18.10 |  2.88 |  0.48 | 19.70 |\n| 10 | VEN | 2015-01 | 0.763 | 0.765 | 17214 | 18.8 | 0.381 | -1.39 | -1.22 | -0.98 | -1.88 | -2.03 | -1.09 |  4.33 | 10.58 | 15.71 |  2.40 |  0.48 | 19.70 |\n| 10 | VEN | 2016-01 | 0.752 | 0.763 | 14528 | 18.8 | 0.380 | -1.35 | -1.29 | -1.02 | -2.00 | -2.24 | -1.14 |  6.73 |  8.17 | 13.81 |  2.40 |  0.48 | 17.24 |\n| 10 | VEN | 2017-01 | 0.735 | 0.750 | 12436 | 18.8 | 0.381 | -1.36 | -1.40 | -1.25 | -1.96 | -2.26 | -1.21 |  7.21 |  7.69 | 10.95 |  2.40 |  0.48 | 14.29 |\n| 10 | VEN | 2018-01 | 0.726 | 0.749 | 10380 | 18.8 | 0.377 | -1.47 | -1.58 | -1.32 | -2.36 | -2.32 | -1.41 |  4.81 |  4.81 | 10.00 |  1.00 |  0.48 | 10.34 |\n\n",
            "text/latex": "A data.frame: 60 × 20\n\\begin{tabular}{llllllllllllllllllll}\n ID & COD & YEAR & IDH & IDHr & INBpc & GasSocial & IGINICEPAL & CONTCORR & EGOB & ESTPOL & CALIREG & RJUE & VOZYREND & CONTCORRp & EGOBp & ESTPOLp & CALIREGp & RJUEp & VOZYRENDp\\\\\n <int> & <chr> & <chr> & <dbl> & <dbl> & <int> & <dbl> & <dbl> & <dbl> & <dbl> & <dbl> & <dbl> & <dbl> & <dbl> & <dbl> & <dbl> & <dbl> & <dbl> & <dbl> & <dbl>\\\\\n\\hline\n\t  1 & ARG & 2013-01 & 0.824 & 0.840 & 23852 & 13.0 & 0.389 & -0.43 & -0.28 &  0.07 & -0.96 & -0.71 &  0.28 & 40.28 & 45.97 & 48.34 & 18.01 & 29.58 & 56.81\\\\\n\t  1 & ARG & 2014-01 & 0.825 & 0.843 & 23048 & 13.0 & 0.391 & -0.54 & -0.16 & -0.01 & -1.07 & -0.89 &  0.35 & 35.10 & 46.63 & 45.71 & 12.50 & 18.75 & 59.11\\\\\n\t  1 & ARG & 2015-01 & 0.828 & 0.847 & 23466 & 14.1 & 0.392 & -0.55 & -0.08 &  0.01 & -0.91 & -0.77 &  0.41 & 33.65 & 50.00 & 46.19 & 17.31 & 24.04 & 60.10\\\\\n\t  1 & ARG & 2016-01 & 0.828 & 0.849 & 22697 & 14.2 & 0.393 & -0.28 &  0.16 &  0.20 & -0.47 & -0.39 &  0.49 & 47.12 & 60.10 & 52.86 & 33.65 & 37.50 & 63.55\\\\\n\t  1 & ARG & 2017-01 & 0.832 & 0.854 & 22962 & 14.6 & 0.388 & -0.26 &  0.15 &  0.17 & -0.29 & -0.25 &  0.53 & 47.60 & 58.65 & 53.33 & 41.35 & 46.15 & 65.52\\\\\n\t  1 & ARG & 2018-01 & 0.830 & 0.856 & 21918 & 13.5 & 0.396 & -0.07 &  0.03 &  0.02 & -0.29 & -0.24 &  0.56 & 55.29 & 54.81 & 47.62 & 42.31 & 45.67 & 66.50\\\\\n\t  2 & BOL & 2013-01 & 0.673 & 0.707 &  6937 & 10.9 & 0.480 & -0.59 & -0.39 & -0.33 & -0.78 & -1.05 & -0.07 & 34.60 & 43.13 & 36.49 & 24.17 & 15.02 & 46.48\\\\\n\t  2 & BOL & 2014-01 & 0.678 & 0.712 &  7314 & 11.6 & 0.471 & -0.63 & -0.59 & -0.33 & -0.87 & -1.06 & -0.03 & 30.29 & 28.85 & 33.33 & 20.67 & 12.98 & 48.28\\\\\n\t  2 & BOL & 2015-01 & 0.685 & 0.717 &  7718 & 12.5 & 0.454 & -0.70 & -0.65 & -0.27 & -0.89 & -1.14 &  0.00 & 26.92 & 29.33 & 36.67 & 19.23 & 10.58 & 46.80\\\\\n\t  2 & BOL & 2016-01 & 0.692 & 0.725 &  8057 & 12.6 & 0.466 & -0.72 & -0.57 & -0.25 & -0.92 & -1.20 & -0.04 & 25.00 & 33.17 & 36.67 & 17.31 &  9.62 & 45.32\\\\\n\t  2 & BOL & 2017-01 & 0.700 & 0.735 &  8186 & 12.7 & 0.461 & -0.66 & -0.38 & -0.28 & -0.90 & -1.21 & -0.02 & 28.37 & 37.98 & 34.29 & 16.35 &  9.62 & 45.32\\\\\n\t  2 & BOL & 2018-01 & 0.703 & 0.737 &  8445 & 12.7 & 0.438 & -0.62 & -0.32 & -0.28 & -0.91 & -1.15 & -0.04 & 28.85 & 39.90 & 37.14 & 15.38 &  9.62 & 44.33\\\\\n\t  3 & BRA & 2013-01 & 0.752 & 0.748 & 15579 & 15.4 & 0.522 & -0.08 & -0.09 & -0.26 &  0.07 & -0.08 &  0.42 & 55.92 & 50.71 & 36.97 & 54.50 & 52.58 & 60.56\\\\\n\t  3 & BRA & 2014-01 & 0.755 & 0.753 & 15450 & 15.9 & 0.514 & -0.34 & -0.14 & -0.07 & -0.08 & -0.05 &  0.47 & 46.63 & 47.60 & 42.86 & 51.44 & 56.25 & 62.07\\\\\n\t  3 & BRA & 2015-01 & 0.755 & 0.757 & 14775 & 16.3 & 0.511 & -0.40 & -0.18 & -0.33 & -0.19 & -0.15 &  0.46 & 42.79 & 48.08 & 34.29 & 48.08 & 51.44 & 62.07\\\\\n\t  3 & BRA & 2016-01 & 0.757 & 0.763 & 14139 & 17.3 & 0.532 & -0.38 & -0.17 & -0.38 & -0.21 & -0.16 &  0.45 & 42.79 & 46.63 & 31.90 & 46.63 & 49.04 & 62.07\\\\\n\t  3 & BRA & 2017-01 & 0.760 & 0.767 & 14248 & 17.6 & 0.533 & -0.53 & -0.29 & -0.42 & -0.11 & -0.28 &  0.45 & 36.06 & 41.83 & 30.48 & 51.44 & 43.27 & 61.58\\\\\n\t  3 & BRA & 2018-01 & 0.761 & 0.768 & 14182 & 17.7 & 0.540 & -0.40 & -0.45 & -0.39 & -0.32 & -0.25 &  0.40 & 40.38 & 36.06 & 32.38 & 39.90 & 44.71 & 60.59\\\\\n\t  4 & CHL & 2013-01 & 0.830 & 0.841 & 22056 & 14.7 & 0.466 &  1.54 &  1.26 &  0.36 &  1.49 &  1.37 &  1.11 & 90.52 & 86.73 & 59.72 & 91.94 & 87.79 & 84.51\\\\\n\t  4 & CHL & 2014-01 & 0.834 & 0.847 & 22501 & 15.0 & 0.460 &  1.49 &  1.16 &  0.45 &  1.49 &  1.43 &  1.06 & 90.87 & 84.62 & 60.00 & 91.83 & 87.98 & 80.79\\\\\n\t  4 & CHL & 2015-01 & 0.839 & 0.853 & 22949 & 15.8 & 0.453 &  1.28 &  1.09 &  0.43 &  1.35 &  1.34 &  1.00 & 87.50 & 83.17 & 60.00 & 88.94 & 87.02 & 79.31\\\\\n\t  4 & CHL & 2016-01 & 0.843 & 0.858 & 23003 & 16.1 & 0.454 &  1.14 &  1.01 &  0.41 &  1.37 &  1.13 &  1.00 & 82.69 & 79.33 & 60.48 & 89.90 & 85.10 & 77.83\\\\\n\t  4 & CHL & 2017-01 & 0.845 & 0.863 & 22685 & 16.4 & 0.454 &  1.04 &  0.84 &  0.42 &  1.34 &  1.01 &  1.00 & 82.21 & 77.88 & 61.90 & 88.94 & 81.73 & 79.31\\\\\n\t  4 & CHL & 2018-01 & 0.847 & 0.864 & 23222 & 16.4 & 0.454 &  1.05 &  1.08 &  0.44 &  1.34 &  1.09 &  1.06 & 82.21 & 81.73 & 60.95 & 88.46 & 83.17 & 82.27\\\\\n\t  5 & COL & 2013-01 & 0.746 & 0.757 & 13032 & 12.8 & 0.540 & -0.41 &  0.07 & -1.29 &  0.40 & -0.41 & -0.08 & 42.18 & 57.82 & 10.43 & 63.98 & 41.78 & 45.54\\\\\n\t  5 & COL & 2014-01 & 0.750 & 0.760 & 13564 & 12.9 & 0.540 & -0.37 & -0.10 & -1.11 &  0.50 & -0.29 & -0.04 & 44.23 & 49.52 & 10.95 & 67.79 & 44.71 & 47.78\\\\\n\t  5 & COL & 2015-01 & 0.753 & 0.763 & 14038 & 13.0 & 0.524 & -0.30 & -0.04 & -1.07 &  0.47 & -0.27 &  0.00 & 47.60 & 52.40 & 12.86 & 68.75 & 46.63 & 47.78\\\\\n\t  5 & COL & 2016-01 & 0.759 & 0.770 & 14186 & 12.5 & 0.521 & -0.32 &  0.02 & -0.88 &  0.40 & -0.28 &  0.12 & 44.71 & 53.37 & 16.19 & 67.31 & 43.75 & 49.75\\\\\n\t  5 & COL & 2017-01 & 0.760 & 0.774 & 14055 & 13.4 & 0.511 & -0.37 & -0.07 & -0.77 &  0.34 & -0.36 &  0.11 & 43.75 & 51.44 & 17.62 & 65.87 & 40.38 & 49.26\\\\\n\t  5 & COL & 2018-01 & 0.761 & 0.775 & 14085 & 12.6 & 0.520 & -0.29 & -0.09 & -0.79 &  0.32 & -0.41 &  0.19 & 45.19 & 50.00 & 19.52 & 64.42 & 38.46 & 52.71\\\\\n\t  6 & ECU & 2013-01 & 0.751 & 0.777 & 11647 &  9.2 & 0.470 & -0.57 & -0.50 & -0.18 & -0.93 & -0.97 & -0.25 & 35.07 & 36.02 & 39.34 & 19.91 & 17.37 & 40.38\\\\\n\t  6 & ECU & 2014-01 & 0.750 & 0.773 & 11892 &  8.5 & 0.449 & -0.75 & -0.47 & -0.02 & -1.01 & -1.06 & -0.20 & 25.00 & 35.58 & 45.24 & 15.87 & 12.02 & 39.90\\\\\n\t  6 & ECU & 2015-01 & 0.758 & 0.787 & 11693 &  8.4 & 0.462 & -0.67 & -0.44 & -0.14 & -1.16 & -1.03 & -0.21 & 28.37 & 38.46 & 40.95 & 11.54 & 13.94 & 39.41\\\\\n\t  6 & ECU & 2016-01 & 0.756 & 0.787 & 11346 &  8.8 & 0.450 & -0.68 & -0.43 & -0.09 & -1.02 & -0.76 & -0.25 & 27.40 & 37.50 & 44.29 & 12.98 & 25.00 & 38.42\\\\\n\t  6 & ECU & 2017-01 & 0.757 & 0.789 & 11360 &  9.2 & 0.444 & -0.60 & -0.32 & -0.07 & -1.00 & -0.70 & -0.17 & 30.77 & 39.90 & 41.43 & 14.42 & 25.48 & 40.89\\\\\n\t  6 & ECU & 2018-01 & 0.758 & 0.790 & 11256 &  9.0 & 0.454 & -0.57 & -0.26 & -0.08 & -0.87 & -0.64 &  0.02 & 32.21 & 42.79 & 43.33 & 16.83 & 28.37 & 47.29\\\\\n\t  7 & PAR & 2013-01 & 0.709 & 0.715 & 10777 &  8.2 & 0.495 & -1.04 & -0.87 & -0.74 & -0.31 & -0.81 & -0.10 & 14.22 & 21.33 & 22.75 & 42.65 & 23.47 & 44.60\\\\\n\t  7 & PAR & 2014-01 & 0.712 & 0.717 & 11188 &  8.4 & 0.522 & -0.97 & -0.92 & -0.09 & -0.28 & -0.67 & -0.10 & 15.38 & 17.31 & 42.38 & 43.27 & 28.37 & 45.32\\\\\n\t  7 & PAR & 2015-01 & 0.718 & 0.724 & 11371 &  8.8 & 0.494 & -0.95 & -0.95 &  0.04 & -0.27 & -0.69 & -0.07 & 15.87 & 17.31 & 48.57 & 44.71 & 28.85 & 44.83\\\\\n\t  7 & PAR & 2016-01 & 0.718 & 0.723 & 11668 &  8.5 & 0.497 & -0.71 & -0.79 &  0.14 & -0.30 & -0.73 & -0.06 & 26.92 & 20.67 & 50.48 & 42.31 & 25.48 & 44.33\\\\\n\t  7 & PAR & 2017-01 & 0.722 & 0.726 & 12205 &  8.6 & 0.503 & -0.73 & -0.82 &  0.00 & -0.23 & -0.65 & -0.04 & 25.00 & 19.71 & 46.19 & 44.23 & 28.85 & 44.33\\\\\n\t  7 & PAR & 2018-01 & 0.724 & 0.727 & 12420 &  8.6 & 0.474 & -0.84 & -0.52 & -0.07 & -0.08 & -0.52 &  0.06 & 21.15 & 34.13 & 44.29 & 52.40 & 32.69 & 49.75\\\\\n\t  8 & PER & 2013-01 & 0.742 & 0.757 & 11113 & 10.3 & 0.453 & -0.42 & -0.11 & -0.81 &  0.46 & -0.57 &  0.08 & 41.23 & 49.76 & 20.38 & 66.35 & 34.74 & 52.11\\\\\n\t  8 & PER & 2014-01 & 0.752 & 0.771 & 11339 & 11.1 & 0.446 & -0.56 & -0.27 & -0.55 &  0.52 & -0.52 &  0.19 & 34.13 & 44.23 & 27.14 & 68.75 & 34.13 & 54.68\\\\\n\t  8 & PER & 2015-01 & 0.750 & 0.766 & 11706 & 11.0 & 0.449 & -0.53 & -0.28 & -0.40 &  0.49 & -0.49 &  0.23 & 34.62 & 44.23 & 32.38 & 69.23 & 37.50 & 54.68\\\\\n\t  8 & PER & 2016-01 & 0.755 & 0.772 & 11900 & 10.4 & 0.452 & -0.37 & -0.18 & -0.20 &  0.51 & -0.48 &  0.27 & 43.27 & 45.67 & 38.10 & 69.71 & 34.13 & 55.17\\\\\n\t  8 & PER & 2017-01 & 0.756 & 0.774 & 11931 & 11.4 & 0.448 & -0.50 & -0.13 & -0.26 &  0.42 & -0.50 &  0.27 & 38.94 & 48.56 & 36.19 & 67.31 & 33.17 & 55.17\\\\\n\t  8 & PER & 2018-01 & 0.759 & 0.775 & 12155 & 11.1 & 0.439 & -0.53 & -0.25 & -0.26 &  0.50 & -0.53 &  0.23 & 34.62 & 44.23 & 37.62 & 69.23 & 32.21 & 55.17\\\\\n\t  9 & URY & 2013-01 & 0.797 & 0.802 & 18924 & 14.2 & 0.397 &  1.38 &  0.45 &  0.80 &  0.54 &  0.56 &  1.09 & 89.57 & 66.82 & 71.56 & 68.72 & 67.14 & 83.57\\\\\n\t  9 & URY & 2014-01 & 0.800 & 0.805 & 19262 & 14.3 & 0.392 &  1.38 &  0.48 &  0.99 &  0.53 &  0.71 &  1.11 & 89.90 & 71.15 & 83.81 & 69.23 & 75.96 & 83.25\\\\\n\t  9 & URY & 2015-01 & 0.802 & 0.807 & 19679 & 14.9 & 0.392 &  1.32 &  0.53 &  1.00 &  0.42 &  0.71 &  1.14 & 89.42 & 72.60 & 85.24 & 67.31 & 75.00 & 85.71\\\\\n\t  9 & URY & 2016-01 & 0.806 & 0.812 & 19844 & 15.9 & 0.391 &  1.27 &  0.57 &  1.06 &  0.49 &  0.63 &  1.16 & 88.46 & 73.08 & 90.00 & 69.23 & 73.56 & 86.70\\\\\n\t  9 & URY & 2017-01 & 0.807 & 0.813 & 20056 & 16.8 & 0.390 &  1.29 &  0.43 &  1.05 &  0.66 &  0.59 &  1.17 & 88.46 & 68.27 & 87.14 & 73.56 & 72.12 & 86.70\\\\\n\t  9 & URY & 2018-01 & 0.808 & 0.814 & 20091 & 17.2 & 0.391 &  1.26 &  0.56 &  1.04 &  0.51 &  0.59 &  1.21 & 87.50 & 73.08 & 87.62 & 70.19 & 73.08 & 89.66\\\\\n\t 10 & VEN & 2013-01 & 0.772 & 0.768 & 19360 & 16.1 & 0.388 & -1.31 & -1.17 & -1.08 & -1.63 & -1.82 & -0.95 &  5.69 & 12.32 & 16.59 &  2.84 &  0.47 & 22.07\\\\\n\t 10 & VEN & 2014-01 & 0.770 & 0.767 & 18833 & 18.8 & 0.378 & -1.40 & -1.23 & -0.85 & -1.82 & -1.92 & -1.08 &  4.33 & 11.06 & 18.10 &  2.88 &  0.48 & 19.70\\\\\n\t 10 & VEN & 2015-01 & 0.763 & 0.765 & 17214 & 18.8 & 0.381 & -1.39 & -1.22 & -0.98 & -1.88 & -2.03 & -1.09 &  4.33 & 10.58 & 15.71 &  2.40 &  0.48 & 19.70\\\\\n\t 10 & VEN & 2016-01 & 0.752 & 0.763 & 14528 & 18.8 & 0.380 & -1.35 & -1.29 & -1.02 & -2.00 & -2.24 & -1.14 &  6.73 &  8.17 & 13.81 &  2.40 &  0.48 & 17.24\\\\\n\t 10 & VEN & 2017-01 & 0.735 & 0.750 & 12436 & 18.8 & 0.381 & -1.36 & -1.40 & -1.25 & -1.96 & -2.26 & -1.21 &  7.21 &  7.69 & 10.95 &  2.40 &  0.48 & 14.29\\\\\n\t 10 & VEN & 2018-01 & 0.726 & 0.749 & 10380 & 18.8 & 0.377 & -1.47 & -1.58 & -1.32 & -2.36 & -2.32 & -1.41 &  4.81 &  4.81 & 10.00 &  1.00 &  0.48 & 10.34\\\\\n\\end{tabular}\n",
            "text/plain": [
              "   ID COD YEAR    IDH   IDHr  INBpc GasSocial IGINICEPAL CONTCORR EGOB  ESTPOL\n",
              "1   1 ARG 2013-01 0.824 0.840 23852 13.0      0.389      -0.43    -0.28  0.07 \n",
              "2   1 ARG 2014-01 0.825 0.843 23048 13.0      0.391      -0.54    -0.16 -0.01 \n",
              "3   1 ARG 2015-01 0.828 0.847 23466 14.1      0.392      -0.55    -0.08  0.01 \n",
              "4   1 ARG 2016-01 0.828 0.849 22697 14.2      0.393      -0.28     0.16  0.20 \n",
              "5   1 ARG 2017-01 0.832 0.854 22962 14.6      0.388      -0.26     0.15  0.17 \n",
              "6   1 ARG 2018-01 0.830 0.856 21918 13.5      0.396      -0.07     0.03  0.02 \n",
              "7   2 BOL 2013-01 0.673 0.707  6937 10.9      0.480      -0.59    -0.39 -0.33 \n",
              "8   2 BOL 2014-01 0.678 0.712  7314 11.6      0.471      -0.63    -0.59 -0.33 \n",
              "9   2 BOL 2015-01 0.685 0.717  7718 12.5      0.454      -0.70    -0.65 -0.27 \n",
              "10  2 BOL 2016-01 0.692 0.725  8057 12.6      0.466      -0.72    -0.57 -0.25 \n",
              "11  2 BOL 2017-01 0.700 0.735  8186 12.7      0.461      -0.66    -0.38 -0.28 \n",
              "12  2 BOL 2018-01 0.703 0.737  8445 12.7      0.438      -0.62    -0.32 -0.28 \n",
              "13  3 BRA 2013-01 0.752 0.748 15579 15.4      0.522      -0.08    -0.09 -0.26 \n",
              "14  3 BRA 2014-01 0.755 0.753 15450 15.9      0.514      -0.34    -0.14 -0.07 \n",
              "15  3 BRA 2015-01 0.755 0.757 14775 16.3      0.511      -0.40    -0.18 -0.33 \n",
              "16  3 BRA 2016-01 0.757 0.763 14139 17.3      0.532      -0.38    -0.17 -0.38 \n",
              "17  3 BRA 2017-01 0.760 0.767 14248 17.6      0.533      -0.53    -0.29 -0.42 \n",
              "18  3 BRA 2018-01 0.761 0.768 14182 17.7      0.540      -0.40    -0.45 -0.39 \n",
              "19  4 CHL 2013-01 0.830 0.841 22056 14.7      0.466       1.54     1.26  0.36 \n",
              "20  4 CHL 2014-01 0.834 0.847 22501 15.0      0.460       1.49     1.16  0.45 \n",
              "21  4 CHL 2015-01 0.839 0.853 22949 15.8      0.453       1.28     1.09  0.43 \n",
              "22  4 CHL 2016-01 0.843 0.858 23003 16.1      0.454       1.14     1.01  0.41 \n",
              "23  4 CHL 2017-01 0.845 0.863 22685 16.4      0.454       1.04     0.84  0.42 \n",
              "24  4 CHL 2018-01 0.847 0.864 23222 16.4      0.454       1.05     1.08  0.44 \n",
              "25  5 COL 2013-01 0.746 0.757 13032 12.8      0.540      -0.41     0.07 -1.29 \n",
              "26  5 COL 2014-01 0.750 0.760 13564 12.9      0.540      -0.37    -0.10 -1.11 \n",
              "27  5 COL 2015-01 0.753 0.763 14038 13.0      0.524      -0.30    -0.04 -1.07 \n",
              "28  5 COL 2016-01 0.759 0.770 14186 12.5      0.521      -0.32     0.02 -0.88 \n",
              "29  5 COL 2017-01 0.760 0.774 14055 13.4      0.511      -0.37    -0.07 -0.77 \n",
              "30  5 COL 2018-01 0.761 0.775 14085 12.6      0.520      -0.29    -0.09 -0.79 \n",
              "31  6 ECU 2013-01 0.751 0.777 11647  9.2      0.470      -0.57    -0.50 -0.18 \n",
              "32  6 ECU 2014-01 0.750 0.773 11892  8.5      0.449      -0.75    -0.47 -0.02 \n",
              "33  6 ECU 2015-01 0.758 0.787 11693  8.4      0.462      -0.67    -0.44 -0.14 \n",
              "34  6 ECU 2016-01 0.756 0.787 11346  8.8      0.450      -0.68    -0.43 -0.09 \n",
              "35  6 ECU 2017-01 0.757 0.789 11360  9.2      0.444      -0.60    -0.32 -0.07 \n",
              "36  6 ECU 2018-01 0.758 0.790 11256  9.0      0.454      -0.57    -0.26 -0.08 \n",
              "37  7 PAR 2013-01 0.709 0.715 10777  8.2      0.495      -1.04    -0.87 -0.74 \n",
              "38  7 PAR 2014-01 0.712 0.717 11188  8.4      0.522      -0.97    -0.92 -0.09 \n",
              "39  7 PAR 2015-01 0.718 0.724 11371  8.8      0.494      -0.95    -0.95  0.04 \n",
              "40  7 PAR 2016-01 0.718 0.723 11668  8.5      0.497      -0.71    -0.79  0.14 \n",
              "41  7 PAR 2017-01 0.722 0.726 12205  8.6      0.503      -0.73    -0.82  0.00 \n",
              "42  7 PAR 2018-01 0.724 0.727 12420  8.6      0.474      -0.84    -0.52 -0.07 \n",
              "43  8 PER 2013-01 0.742 0.757 11113 10.3      0.453      -0.42    -0.11 -0.81 \n",
              "44  8 PER 2014-01 0.752 0.771 11339 11.1      0.446      -0.56    -0.27 -0.55 \n",
              "45  8 PER 2015-01 0.750 0.766 11706 11.0      0.449      -0.53    -0.28 -0.40 \n",
              "46  8 PER 2016-01 0.755 0.772 11900 10.4      0.452      -0.37    -0.18 -0.20 \n",
              "47  8 PER 2017-01 0.756 0.774 11931 11.4      0.448      -0.50    -0.13 -0.26 \n",
              "48  8 PER 2018-01 0.759 0.775 12155 11.1      0.439      -0.53    -0.25 -0.26 \n",
              "49  9 URY 2013-01 0.797 0.802 18924 14.2      0.397       1.38     0.45  0.80 \n",
              "50  9 URY 2014-01 0.800 0.805 19262 14.3      0.392       1.38     0.48  0.99 \n",
              "51  9 URY 2015-01 0.802 0.807 19679 14.9      0.392       1.32     0.53  1.00 \n",
              "52  9 URY 2016-01 0.806 0.812 19844 15.9      0.391       1.27     0.57  1.06 \n",
              "53  9 URY 2017-01 0.807 0.813 20056 16.8      0.390       1.29     0.43  1.05 \n",
              "54  9 URY 2018-01 0.808 0.814 20091 17.2      0.391       1.26     0.56  1.04 \n",
              "55 10 VEN 2013-01 0.772 0.768 19360 16.1      0.388      -1.31    -1.17 -1.08 \n",
              "56 10 VEN 2014-01 0.770 0.767 18833 18.8      0.378      -1.40    -1.23 -0.85 \n",
              "57 10 VEN 2015-01 0.763 0.765 17214 18.8      0.381      -1.39    -1.22 -0.98 \n",
              "58 10 VEN 2016-01 0.752 0.763 14528 18.8      0.380      -1.35    -1.29 -1.02 \n",
              "59 10 VEN 2017-01 0.735 0.750 12436 18.8      0.381      -1.36    -1.40 -1.25 \n",
              "60 10 VEN 2018-01 0.726 0.749 10380 18.8      0.377      -1.47    -1.58 -1.32 \n",
              "   CALIREG RJUE  VOZYREND CONTCORRp EGOBp ESTPOLp CALIREGp RJUEp VOZYRENDp\n",
              "1  -0.96   -0.71  0.28    40.28     45.97 48.34   18.01    29.58 56.81    \n",
              "2  -1.07   -0.89  0.35    35.10     46.63 45.71   12.50    18.75 59.11    \n",
              "3  -0.91   -0.77  0.41    33.65     50.00 46.19   17.31    24.04 60.10    \n",
              "4  -0.47   -0.39  0.49    47.12     60.10 52.86   33.65    37.50 63.55    \n",
              "5  -0.29   -0.25  0.53    47.60     58.65 53.33   41.35    46.15 65.52    \n",
              "6  -0.29   -0.24  0.56    55.29     54.81 47.62   42.31    45.67 66.50    \n",
              "7  -0.78   -1.05 -0.07    34.60     43.13 36.49   24.17    15.02 46.48    \n",
              "8  -0.87   -1.06 -0.03    30.29     28.85 33.33   20.67    12.98 48.28    \n",
              "9  -0.89   -1.14  0.00    26.92     29.33 36.67   19.23    10.58 46.80    \n",
              "10 -0.92   -1.20 -0.04    25.00     33.17 36.67   17.31     9.62 45.32    \n",
              "11 -0.90   -1.21 -0.02    28.37     37.98 34.29   16.35     9.62 45.32    \n",
              "12 -0.91   -1.15 -0.04    28.85     39.90 37.14   15.38     9.62 44.33    \n",
              "13  0.07   -0.08  0.42    55.92     50.71 36.97   54.50    52.58 60.56    \n",
              "14 -0.08   -0.05  0.47    46.63     47.60 42.86   51.44    56.25 62.07    \n",
              "15 -0.19   -0.15  0.46    42.79     48.08 34.29   48.08    51.44 62.07    \n",
              "16 -0.21   -0.16  0.45    42.79     46.63 31.90   46.63    49.04 62.07    \n",
              "17 -0.11   -0.28  0.45    36.06     41.83 30.48   51.44    43.27 61.58    \n",
              "18 -0.32   -0.25  0.40    40.38     36.06 32.38   39.90    44.71 60.59    \n",
              "19  1.49    1.37  1.11    90.52     86.73 59.72   91.94    87.79 84.51    \n",
              "20  1.49    1.43  1.06    90.87     84.62 60.00   91.83    87.98 80.79    \n",
              "21  1.35    1.34  1.00    87.50     83.17 60.00   88.94    87.02 79.31    \n",
              "22  1.37    1.13  1.00    82.69     79.33 60.48   89.90    85.10 77.83    \n",
              "23  1.34    1.01  1.00    82.21     77.88 61.90   88.94    81.73 79.31    \n",
              "24  1.34    1.09  1.06    82.21     81.73 60.95   88.46    83.17 82.27    \n",
              "25  0.40   -0.41 -0.08    42.18     57.82 10.43   63.98    41.78 45.54    \n",
              "26  0.50   -0.29 -0.04    44.23     49.52 10.95   67.79    44.71 47.78    \n",
              "27  0.47   -0.27  0.00    47.60     52.40 12.86   68.75    46.63 47.78    \n",
              "28  0.40   -0.28  0.12    44.71     53.37 16.19   67.31    43.75 49.75    \n",
              "29  0.34   -0.36  0.11    43.75     51.44 17.62   65.87    40.38 49.26    \n",
              "30  0.32   -0.41  0.19    45.19     50.00 19.52   64.42    38.46 52.71    \n",
              "31 -0.93   -0.97 -0.25    35.07     36.02 39.34   19.91    17.37 40.38    \n",
              "32 -1.01   -1.06 -0.20    25.00     35.58 45.24   15.87    12.02 39.90    \n",
              "33 -1.16   -1.03 -0.21    28.37     38.46 40.95   11.54    13.94 39.41    \n",
              "34 -1.02   -0.76 -0.25    27.40     37.50 44.29   12.98    25.00 38.42    \n",
              "35 -1.00   -0.70 -0.17    30.77     39.90 41.43   14.42    25.48 40.89    \n",
              "36 -0.87   -0.64  0.02    32.21     42.79 43.33   16.83    28.37 47.29    \n",
              "37 -0.31   -0.81 -0.10    14.22     21.33 22.75   42.65    23.47 44.60    \n",
              "38 -0.28   -0.67 -0.10    15.38     17.31 42.38   43.27    28.37 45.32    \n",
              "39 -0.27   -0.69 -0.07    15.87     17.31 48.57   44.71    28.85 44.83    \n",
              "40 -0.30   -0.73 -0.06    26.92     20.67 50.48   42.31    25.48 44.33    \n",
              "41 -0.23   -0.65 -0.04    25.00     19.71 46.19   44.23    28.85 44.33    \n",
              "42 -0.08   -0.52  0.06    21.15     34.13 44.29   52.40    32.69 49.75    \n",
              "43  0.46   -0.57  0.08    41.23     49.76 20.38   66.35    34.74 52.11    \n",
              "44  0.52   -0.52  0.19    34.13     44.23 27.14   68.75    34.13 54.68    \n",
              "45  0.49   -0.49  0.23    34.62     44.23 32.38   69.23    37.50 54.68    \n",
              "46  0.51   -0.48  0.27    43.27     45.67 38.10   69.71    34.13 55.17    \n",
              "47  0.42   -0.50  0.27    38.94     48.56 36.19   67.31    33.17 55.17    \n",
              "48  0.50   -0.53  0.23    34.62     44.23 37.62   69.23    32.21 55.17    \n",
              "49  0.54    0.56  1.09    89.57     66.82 71.56   68.72    67.14 83.57    \n",
              "50  0.53    0.71  1.11    89.90     71.15 83.81   69.23    75.96 83.25    \n",
              "51  0.42    0.71  1.14    89.42     72.60 85.24   67.31    75.00 85.71    \n",
              "52  0.49    0.63  1.16    88.46     73.08 90.00   69.23    73.56 86.70    \n",
              "53  0.66    0.59  1.17    88.46     68.27 87.14   73.56    72.12 86.70    \n",
              "54  0.51    0.59  1.21    87.50     73.08 87.62   70.19    73.08 89.66    \n",
              "55 -1.63   -1.82 -0.95     5.69     12.32 16.59    2.84     0.47 22.07    \n",
              "56 -1.82   -1.92 -1.08     4.33     11.06 18.10    2.88     0.48 19.70    \n",
              "57 -1.88   -2.03 -1.09     4.33     10.58 15.71    2.40     0.48 19.70    \n",
              "58 -2.00   -2.24 -1.14     6.73      8.17 13.81    2.40     0.48 17.24    \n",
              "59 -1.96   -2.26 -1.21     7.21      7.69 10.95    2.40     0.48 14.29    \n",
              "60 -2.36   -2.32 -1.41     4.81      4.81 10.00    1.00     0.48 10.34    "
            ]
          },
          "metadata": {}
        }
      ],
      "source": [
        "path = \"https://raw.githubusercontent.com/mogollonalex/Panel_Data_R/main/data.csv\"\n",
        "datos <-read.table(path,  header=TRUE, sep=\",\", na.strings=\"NA\", dec=\".\", strip.white=TRUE)\n",
        "datos"
      ]
    },
    {
      "cell_type": "code",
      "execution_count": 11,
      "metadata": {
        "colab": {
          "base_uri": "https://localhost:8080/",
          "height": 857
        },
        "id": "RdhSd5fuG0px",
        "outputId": "98873332-772b-4917-8395-cb72a88a1f41"
      },
      "outputs": [
        {
          "output_type": "display_data",
          "data": {
            "text/plain": [
              "Plot with title “Heterogeneidad entre países”"
            ],
            "image/png": "[encoded data removed]"
          },
          "metadata": {
            "image/png": {
              "width": 420,
              "height": 420
            }
          }
        },
        {
          "output_type": "display_data",
          "data": {
            "text/plain": [
              "Plot with title “Heterogeneidad a lo largo de los años”"
            ],
            "image/png": "[encoded data removed]"
          },
          "metadata": {
            "image/png": {
              "width": 420,
              "height": 420
            }
          }
        }
      ],
      "source": [
        "# Heterogeneidad\n",
        "plotmeans(IDHr ~ COD, main=\"Heterogeneidad entre países\", data=datos)\n",
        "\n",
        "plotmeans(IDHr ~ YEAR, main=\"Heterogeneidad a lo largo de los años\", data=datos)\n"
      ]
    },
    {
      "cell_type": "code",
      "execution_count": 12,
      "metadata": {
        "colab": {
          "base_uri": "https://localhost:8080/",
          "height": 747
        },
        "id": "nSPCpbvlJ_5D",
        "outputId": "34a037bf-619e-45f2-cff6-dfc7006f46bb"
      },
      "outputs": [
        {
          "output_type": "stream",
          "name": "stderr",
          "text": [
            "Warning message:\n",
            "“use of 'plm.data' is discouraged, better use 'pdata.frame' instead”\n"
          ]
        },
        {
          "output_type": "display_data",
          "data": {
            "text/plain": [
              "\n",
              "\tAugmented Dickey-Fuller Test\n",
              "\n",
              "data:  IDHr\n",
              "Dickey-Fuller = -3.1083, Lag order = 2, p-value = 0.1268\n",
              "alternative hypothesis: stationary\n"
            ]
          },
          "metadata": {}
        },
        {
          "output_type": "stream",
          "name": "stderr",
          "text": [
            "Warning message:\n",
            "“use of 'plm.data' is discouraged, better use 'pdata.frame' instead”\n"
          ]
        },
        {
          "output_type": "display_data",
          "data": {
            "text/plain": [
              "\n",
              "\tAugmented Dickey-Fuller Test\n",
              "\n",
              "data:  INBpc\n",
              "Dickey-Fuller = -3.039, Lag order = 2, p-value = 0.1548\n",
              "alternative hypothesis: stationary\n"
            ]
          },
          "metadata": {}
        },
        {
          "output_type": "stream",
          "name": "stderr",
          "text": [
            "Warning message:\n",
            "“use of 'plm.data' is discouraged, better use 'pdata.frame' instead”\n"
          ]
        },
        {
          "output_type": "display_data",
          "data": {
            "text/plain": [
              "\n",
              "\tAugmented Dickey-Fuller Test\n",
              "\n",
              "data:  IGINICEPAL\n",
              "Dickey-Fuller = -2.4407, Lag order = 2, p-value = 0.3967\n",
              "alternative hypothesis: stationary\n"
            ]
          },
          "metadata": {}
        },
        {
          "output_type": "stream",
          "name": "stderr",
          "text": [
            "Warning message:\n",
            "“use of 'plm.data' is discouraged, better use 'pdata.frame' instead”\n"
          ]
        },
        {
          "output_type": "display_data",
          "data": {
            "text/plain": [
              "\n",
              "\tAugmented Dickey-Fuller Test\n",
              "\n",
              "data:  GasSocial\n",
              "Dickey-Fuller = -0.88554, Lag order = 2, p-value = 0.9484\n",
              "alternative hypothesis: stationary\n"
            ]
          },
          "metadata": {}
        },
        {
          "output_type": "stream",
          "name": "stderr",
          "text": [
            "Warning message:\n",
            "“use of 'plm.data' is discouraged, better use 'pdata.frame' instead”\n"
          ]
        },
        {
          "output_type": "display_data",
          "data": {
            "text/plain": [
              "\n",
              "\tAugmented Dickey-Fuller Test\n",
              "\n",
              "data:  VOZYREND\n",
              "Dickey-Fuller = -2.0769, Lag order = 2, p-value = 0.5437\n",
              "alternative hypothesis: stationary\n"
            ]
          },
          "metadata": {}
        }
      ],
      "source": [
        "#Testing for unit roots/stationarity |||| If p-value < 0.05 then no unit roots present\n",
        "Panel.set <- plm.data(datos, index = c(\"COD\", \"YEAR\"))\n",
        "IDHr <-Panel.set$IDHr\n",
        "adf.test(IDHr, k=2)\n",
        "\n",
        "#Testing for unit roots/stationarity |||| If p-value < 0.05 then no unit roots present\n",
        "Panel.set <- plm.data(datos, index = c(\"COD\", \"YEAR\"))\n",
        "INBpc <-Panel.set$INBpc\n",
        "adf.test(INBpc, k=2)\n",
        "\n",
        "#Testing for unit roots/stationarity |||| If p-value < 0.05 then no unit roots present\n",
        "Panel.set <- plm.data(datos, index = c(\"COD\", \"YEAR\"))\n",
        "IGINICEPAL<-Panel.set$IGINICEPAL\n",
        "adf.test(IGINICEPAL, k=2)\n",
        "\n",
        "#Testing for unit roots/stationarity |||| If p-value < 0.05 then no unit roots present\n",
        "Panel.set <- plm.data(datos, index = c(\"COD\", \"YEAR\"))\n",
        "GasSocial <-Panel.set$GasSocial\n",
        "adf.test(GasSocial, k=2)\n",
        "\n",
        "#Testing for unit roots/stationarity |||| If p-value < 0.05 then no unit roots present\n",
        "Panel.set <- plm.data(datos, index = c(\"COD\", \"YEAR\"))\n",
        "VOZYREND <-Panel.set$VOZYREND\n",
        "adf.test(VOZYREND, k=2)\n",
        "\n",
        "\n"
      ]
    },
    {
      "cell_type": "code",
      "execution_count": 13,
      "metadata": {
        "colab": {
          "base_uri": "https://localhost:8080/",
          "height": 492
        },
        "id": "qWSqzx6LMrXs",
        "outputId": "e08faa18-f622-4995-8845-15d6b3fbcfa7"
      },
      "outputs": [
        {
          "output_type": "display_data",
          "data": {
            "text/plain": [
              "Oneway (individual) effect Within Model\n",
              "\n",
              "Call:\n",
              "plm(formula = IDHr ~ IGINICEPAL + INBpc + GasSocial + VOZYREND, \n",
              "    data = datos, model = \"within\", index = c(\"COD\", \"YEAR\"))\n",
              "\n",
              "Balanced Panel: n = 10, T = 6, N = 60\n",
              "\n",
              "Residuals:\n",
              "       Min.     1st Qu.      Median     3rd Qu.        Max. \n",
              "-0.00941153 -0.00312778  0.00044936  0.00291471  0.00874356 \n",
              "\n",
              "Coefficients:\n",
              "              Estimate  Std. Error t-value  Pr(>|t|)    \n",
              "IGINICEPAL -1.1069e-01  7.8544e-02 -1.4092  0.165487    \n",
              "INBpc       1.6955e-06  6.9086e-07  2.4541  0.017969 *  \n",
              "GasSocial   5.3738e-03  9.7075e-04  5.5356 1.429e-06 ***\n",
              "VOZYREND    3.4134e-02  1.0131e-02  3.3694  0.001532 ** \n",
              "---\n",
              "Signif. codes:  0 ‘***’ 0.001 ‘**’ 0.01 ‘*’ 0.05 ‘.’ 0.1 ‘ ’ 1\n",
              "\n",
              "Total Sum of Squares:    0.0030477\n",
              "Residual Sum of Squares: 0.0011643\n",
              "R-Squared:      0.61797\n",
              "Adj. R-Squared: 0.51\n",
              "F-statistic: 18.602 on 4 and 46 DF, p-value: 3.7202e-09"
            ]
          },
          "metadata": {}
        }
      ],
      "source": [
        "### within\n",
        "fixed <- plm(IDHr ~ IGINICEPAL+INBpc+GasSocial+VOZYREND,\n",
        "         data=datos, index=c(\"COD\", \"YEAR\"), model=\"within\")\n",
        "summary(fixed)\n"
      ]
    },
    {
      "cell_type": "code",
      "execution_count": 14,
      "metadata": {
        "colab": {
          "base_uri": "https://localhost:8080/",
          "height": 638
        },
        "id": "Vk-EH0xLMuFE",
        "outputId": "2f93fbe3-0ae9-4894-b473-89c78885f2df"
      },
      "outputs": [
        {
          "output_type": "display_data",
          "data": {
            "text/plain": [
              "Oneway (individual) effect Random Effect Model \n",
              "   (Swamy-Arora's transformation)\n",
              "\n",
              "Call:\n",
              "plm(formula = IDHr ~ IGINICEPAL + INBpc + GasSocial + VOZYREND, \n",
              "    data = datos, model = \"random\", index = c(\"COD\", \"YEAR\"))\n",
              "\n",
              "Balanced Panel: n = 10, T = 6, N = 60\n",
              "\n",
              "Effects:\n",
              "                    var   std.dev share\n",
              "idiosyncratic 2.531e-05 5.031e-03  0.05\n",
              "individual    4.810e-04 2.193e-02  0.95\n",
              "theta: 0.9068\n",
              "\n",
              "Residuals:\n",
              "       Min.     1st Qu.      Median     3rd Qu.        Max. \n",
              "-0.01148747 -0.00360252  0.00047434  0.00325346  0.01129271 \n",
              "\n",
              "Coefficients:\n",
              "               Estimate  Std. Error z-value  Pr(>|z|)    \n",
              "(Intercept)  7.4352e-01  4.1479e-02 17.9252 < 2.2e-16 ***\n",
              "IGINICEPAL  -1.4242e-01  7.2880e-02 -1.9541  0.050685 .  \n",
              "INBpc        1.9702e-06  6.6677e-07  2.9548  0.003129 ** \n",
              "GasSocial    4.8428e-03  9.3350e-04  5.1878 2.128e-07 ***\n",
              "VOZYREND     3.1300e-02  8.3248e-03  3.7599  0.000170 ***\n",
              "---\n",
              "Signif. codes:  0 ‘***’ 0.001 ‘**’ 0.01 ‘*’ 0.05 ‘.’ 0.1 ‘ ’ 1\n",
              "\n",
              "Total Sum of Squares:    0.0040303\n",
              "Residual Sum of Squares: 0.0015425\n",
              "R-Squared:      0.61727\n",
              "Adj. R-Squared: 0.58944\n",
              "Chisq: 88.7057 on 4 DF, p-value: < 2.22e-16"
            ]
          },
          "metadata": {}
        }
      ],
      "source": [
        "### random\n",
        "library(plm)\n",
        "random <-plm(IDHr ~ IGINICEPAL+INBpc+GasSocial+VOZYREND,\n",
        " data=datos, index=c(\"COD\", \"YEAR\"), model=\"random\")\n",
        "summary(random)\n",
        "\n"
      ]
    },
    {
      "cell_type": "code",
      "execution_count": 15,
      "metadata": {
        "colab": {
          "base_uri": "https://localhost:8080/",
          "height": 126
        },
        "id": "63bCbBSWM0lE",
        "outputId": "b57a9cb8-b81d-4775-b5b4-53d46cf4496e"
      },
      "outputs": [
        {
          "output_type": "display_data",
          "data": {
            "text/plain": [
              "\n",
              "\tHausman Test\n",
              "\n",
              "data:  IDHr ~ IGINICEPAL + INBpc + GasSocial + VOZYREND\n",
              "chisq = 2.8978, df = 4, p-value = 0.5751\n",
              "alternative hypothesis: one model is inconsistent\n"
            ]
          },
          "metadata": {}
        }
      ],
      "source": [
        "################# Elegir el modelo\n",
        "### Fixed or Random: Hausman test |||| If p-value > 0.05, then use random effects\n",
        "phtest(fixed, random)"
      ]
    },
    {
      "cell_type": "code",
      "execution_count": 16,
      "metadata": {
        "colab": {
          "base_uri": "https://localhost:8080/",
          "height": 638
        },
        "id": "wXSZRjg6NDmz",
        "outputId": "22767714-47e5-447b-f2c7-04493834bec1"
      },
      "outputs": [
        {
          "output_type": "display_data",
          "data": {
            "text/plain": [
              "Oneway (individual) effect Random Effect Model \n",
              "   (Swamy-Arora's transformation)\n",
              "\n",
              "Call:\n",
              "plm(formula = IDHr ~ IGINICEPAL + INBpc + GasSocial + VOZYREND, \n",
              "    data = datos, model = \"random\", index = c(\"COD\", \"YEAR\"))\n",
              "\n",
              "Balanced Panel: n = 10, T = 6, N = 60\n",
              "\n",
              "Effects:\n",
              "                    var   std.dev share\n",
              "idiosyncratic 2.531e-05 5.031e-03  0.05\n",
              "individual    4.810e-04 2.193e-02  0.95\n",
              "theta: 0.9068\n",
              "\n",
              "Residuals:\n",
              "       Min.     1st Qu.      Median     3rd Qu.        Max. \n",
              "-0.01148747 -0.00360252  0.00047434  0.00325346  0.01129271 \n",
              "\n",
              "Coefficients:\n",
              "               Estimate  Std. Error z-value  Pr(>|z|)    \n",
              "(Intercept)  7.4352e-01  4.1479e-02 17.9252 < 2.2e-16 ***\n",
              "IGINICEPAL  -1.4242e-01  7.2880e-02 -1.9541  0.050685 .  \n",
              "INBpc        1.9702e-06  6.6677e-07  2.9548  0.003129 ** \n",
              "GasSocial    4.8428e-03  9.3350e-04  5.1878 2.128e-07 ***\n",
              "VOZYREND     3.1300e-02  8.3248e-03  3.7599  0.000170 ***\n",
              "---\n",
              "Signif. codes:  0 ‘***’ 0.001 ‘**’ 0.01 ‘*’ 0.05 ‘.’ 0.1 ‘ ’ 1\n",
              "\n",
              "Total Sum of Squares:    0.0040303\n",
              "Residual Sum of Squares: 0.0015425\n",
              "R-Squared:      0.61727\n",
              "Adj. R-Squared: 0.58944\n",
              "Chisq: 88.7057 on 4 DF, p-value: < 2.22e-16"
            ]
          },
          "metadata": {}
        }
      ],
      "source": [
        "################# Robusto\n",
        "summary(random, robust = TRUE)\n"
      ]
    },
    {
      "cell_type": "code",
      "execution_count": 21,
      "metadata": {
        "colab": {
          "base_uri": "https://localhost:8080/",
          "height": 108
        },
        "id": "P4LJKpaVNFKS",
        "outputId": "7e5f76b5-3d2e-44e3-df9f-079b9f9436b1"
      },
      "outputs": [
        {
          "output_type": "display_data",
          "data": {
            "text/plain": [
              "\n",
              "\tJarque Bera Test\n",
              "\n",
              "data:  residuos\n",
              "X-squared = 0.23087, df = 2, p-value = 0.891\n"
            ]
          },
          "metadata": {}
        }
      ],
      "source": [
        "# Test de normalidad de residuos\n",
        "residuos=residuals(random)\n",
        "\n",
        "#jarqueberaTest(residuos)\n",
        "jarque.bera.test(residuos)"
      ]
    },
    {
      "cell_type": "code",
      "execution_count": 22,
      "metadata": {
        "colab": {
          "base_uri": "https://localhost:8080/",
          "height": 163
        },
        "id": "-GdqXbRXNHev",
        "outputId": "4921a064-cc58-425f-9c9f-36ffa065d71d"
      },
      "outputs": [
        {
          "output_type": "stream",
          "name": "stderr",
          "text": [
            "Warning message in adf.test(residuos, k = 2):\n",
            "“p-value smaller than printed p-value”\n"
          ]
        },
        {
          "output_type": "display_data",
          "data": {
            "text/plain": [
              "\n",
              "\tAugmented Dickey-Fuller Test\n",
              "\n",
              "data:  residuos\n",
              "Dickey-Fuller = -4.8859, Lag order = 2, p-value = 0.01\n",
              "alternative hypothesis: stationary\n"
            ]
          },
          "metadata": {}
        }
      ],
      "source": [
        "# stationarity residuals\n",
        "#Testing for unit roots/stationarity |||| If p-value < 0.05 then no unit roots present\n",
        "adf.test(residuos, k=2)"
      ]
    },
    {
      "cell_type": "code",
      "execution_count": 23,
      "metadata": {
        "colab": {
          "base_uri": "https://localhost:8080/",
          "height": 126
        },
        "id": "QVbHy5nGNJLC",
        "outputId": "096e000a-7821-4263-a498-dbed7881998a"
      },
      "outputs": [
        {
          "output_type": "display_data",
          "data": {
            "text/plain": [
              "\n",
              "\tBreusch-Godfrey/Wooldridge test for serial correlation in panel models\n",
              "\n",
              "data:  IDHr ~ IGINICEPAL + INBpc + GasSocial + VOZYREND\n",
              "chisq = 13.303, df = 6, p-value = 0.03847\n",
              "alternative hypothesis: serial correlation in idiosyncratic errors\n"
            ]
          },
          "metadata": {}
        }
      ],
      "source": [
        "### Testing for serial correlation |||| If p-value > 0.05, No serial correlation\n",
        "pbgtest(random)"
      ]
    },
    {
      "cell_type": "code",
      "execution_count": 24,
      "metadata": {
        "colab": {
          "base_uri": "https://localhost:8080/",
          "height": 108
        },
        "id": "ID42mLnZTiQX",
        "outputId": "5b711a9e-0002-4024-b382-bb77a32ece44"
      },
      "outputs": [
        {
          "output_type": "display_data",
          "data": {
            "text/plain": [
              "\n",
              "\tBreusch-Pagan test\n",
              "\n",
              "data:  IDHr ~ IGINICEPAL + INBpc + GasSocial + VOZYREND + factor(COD)\n",
              "BP = 12.588, df = 13, p-value = 0.4801\n"
            ]
          },
          "metadata": {}
        }
      ],
      "source": [
        "### Testing for heteroskedasticity |||| If p-value > 0.05, No Presence of heteroskedasticity   \n",
        "# If hetersokedaticity is detected you can use robust covariance matrix to account for it. See the following pages.\n",
        "library(lmtest)\n",
        "bptest(IDHr ~ IGINICEPAL+INBpc+GasSocial+VOZYREND + factor(COD), data = datos, studentize=F)\n"
      ]
    },
    {
      "cell_type": "code",
      "execution_count": 25,
      "metadata": {
        "colab": {
          "base_uri": "https://localhost:8080/",
          "height": 200
        },
        "id": "DdpRPC9yNLze",
        "outputId": "55817bce-fce1-4f6f-bd88-087bc1aba1f7"
      },
      "outputs": [
        {
          "output_type": "display_data",
          "data": {
            "text/plain": [
              "\n",
              "t test of coefficients:\n",
              "\n",
              "              Estimate  Std. Error t value  Pr(>|t|)    \n",
              "IGINICEPAL -1.1069e-01  9.9022e-02 -1.1178 0.2694544    \n",
              "INBpc       1.6955e-06  6.2038e-07  2.7329 0.0088774 ** \n",
              "GasSocial   5.3738e-03  1.8536e-03  2.8991 0.0057187 ** \n",
              "VOZYREND    3.4134e-02  9.6349e-03  3.5428 0.0009208 ***\n",
              "---\n",
              "Signif. codes:  0 ‘***’ 0.001 ‘**’ 0.01 ‘*’ 0.05 ‘.’ 0.1 ‘ ’ 1\n"
            ]
          },
          "metadata": {}
        }
      ],
      "source": [
        "# Heteroskedasticity consistent coefficients (Arellano)   Corrección\n",
        "coeftest(fixed, vcovHC(fixed, method = \"arellano\")) "
      ]
    }
  ],
  "metadata": {
    "colab": {
      "name": "Copia de Panel_Data_R.ipynb",
      "provenance": [],
      "authorship_tag": "ABX9TyOQa4LIGtw0lOotAuPwsbSb",
      "include_colab_link": true
    },
    "kernelspec": {
      "display_name": "R",
      "name": "ir"
    },
    "language_info": {
      "name": "R"
    }
  },
  "nbformat": 4,
  "nbformat_minor": 0
}